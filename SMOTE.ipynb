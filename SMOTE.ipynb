{
  "cells": [
    {
      "cell_type": "code",
      "execution_count": 1,
      "id": "a1504571-2981-4e26-8102-e8945ba3ef17",
      "metadata": {
        "id": "a1504571-2981-4e26-8102-e8945ba3ef17"
      },
      "outputs": [],
      "source": [
        "import tensorflow as tf\n",
        "from tensorflow import keras\n",
        "import numpy as np\n",
        "import pandas as pd\n",
        "import seaborn as sns\n",
        "import matplotlib.pyplot as plt\n",
        "%matplotlib inline"
      ]
    },
    {
      "cell_type": "code",
      "execution_count": 2,
      "id": "4e6926c2-4daf-48c3-b032-ff5b89357eea",
      "metadata": {
        "colab": {
          "base_uri": "https://localhost:8080/",
          "height": 342
        },
        "id": "4e6926c2-4daf-48c3-b032-ff5b89357eea",
        "outputId": "4871fbfc-8e3e-45a0-db46-59b7310cd2a5"
      },
      "outputs": [
        {
          "data": {
            "text/html": [
              "<div>\n",
              "<style scoped>\n",
              "    .dataframe tbody tr th:only-of-type {\n",
              "        vertical-align: middle;\n",
              "    }\n",
              "\n",
              "    .dataframe tbody tr th {\n",
              "        vertical-align: top;\n",
              "    }\n",
              "\n",
              "    .dataframe thead th {\n",
              "        text-align: right;\n",
              "    }\n",
              "</style>\n",
              "<table border=\"1\" class=\"dataframe\">\n",
              "  <thead>\n",
              "    <tr style=\"text-align: right;\">\n",
              "      <th></th>\n",
              "      <th>customerID</th>\n",
              "      <th>gender</th>\n",
              "      <th>SeniorCitizen</th>\n",
              "      <th>Partner</th>\n",
              "      <th>Dependents</th>\n",
              "      <th>tenure</th>\n",
              "      <th>PhoneService</th>\n",
              "      <th>MultipleLines</th>\n",
              "      <th>InternetService</th>\n",
              "      <th>OnlineSecurity</th>\n",
              "      <th>...</th>\n",
              "      <th>DeviceProtection</th>\n",
              "      <th>TechSupport</th>\n",
              "      <th>StreamingTV</th>\n",
              "      <th>StreamingMovies</th>\n",
              "      <th>Contract</th>\n",
              "      <th>PaperlessBilling</th>\n",
              "      <th>PaymentMethod</th>\n",
              "      <th>MonthlyCharges</th>\n",
              "      <th>TotalCharges</th>\n",
              "      <th>Churn</th>\n",
              "    </tr>\n",
              "  </thead>\n",
              "  <tbody>\n",
              "    <tr>\n",
              "      <th>0</th>\n",
              "      <td>7590-VHVEG</td>\n",
              "      <td>Female</td>\n",
              "      <td>0</td>\n",
              "      <td>Yes</td>\n",
              "      <td>No</td>\n",
              "      <td>1</td>\n",
              "      <td>No</td>\n",
              "      <td>No phone service</td>\n",
              "      <td>DSL</td>\n",
              "      <td>No</td>\n",
              "      <td>...</td>\n",
              "      <td>No</td>\n",
              "      <td>No</td>\n",
              "      <td>No</td>\n",
              "      <td>No</td>\n",
              "      <td>Month-to-month</td>\n",
              "      <td>Yes</td>\n",
              "      <td>Electronic check</td>\n",
              "      <td>29.85</td>\n",
              "      <td>29.85</td>\n",
              "      <td>No</td>\n",
              "    </tr>\n",
              "    <tr>\n",
              "      <th>1</th>\n",
              "      <td>5575-GNVDE</td>\n",
              "      <td>Male</td>\n",
              "      <td>0</td>\n",
              "      <td>No</td>\n",
              "      <td>No</td>\n",
              "      <td>34</td>\n",
              "      <td>Yes</td>\n",
              "      <td>No</td>\n",
              "      <td>DSL</td>\n",
              "      <td>Yes</td>\n",
              "      <td>...</td>\n",
              "      <td>Yes</td>\n",
              "      <td>No</td>\n",
              "      <td>No</td>\n",
              "      <td>No</td>\n",
              "      <td>One year</td>\n",
              "      <td>No</td>\n",
              "      <td>Mailed check</td>\n",
              "      <td>56.95</td>\n",
              "      <td>1889.5</td>\n",
              "      <td>No</td>\n",
              "    </tr>\n",
              "    <tr>\n",
              "      <th>2</th>\n",
              "      <td>3668-QPYBK</td>\n",
              "      <td>Male</td>\n",
              "      <td>0</td>\n",
              "      <td>No</td>\n",
              "      <td>No</td>\n",
              "      <td>2</td>\n",
              "      <td>Yes</td>\n",
              "      <td>No</td>\n",
              "      <td>DSL</td>\n",
              "      <td>Yes</td>\n",
              "      <td>...</td>\n",
              "      <td>No</td>\n",
              "      <td>No</td>\n",
              "      <td>No</td>\n",
              "      <td>No</td>\n",
              "      <td>Month-to-month</td>\n",
              "      <td>Yes</td>\n",
              "      <td>Mailed check</td>\n",
              "      <td>53.85</td>\n",
              "      <td>108.15</td>\n",
              "      <td>Yes</td>\n",
              "    </tr>\n",
              "    <tr>\n",
              "      <th>3</th>\n",
              "      <td>7795-CFOCW</td>\n",
              "      <td>Male</td>\n",
              "      <td>0</td>\n",
              "      <td>No</td>\n",
              "      <td>No</td>\n",
              "      <td>45</td>\n",
              "      <td>No</td>\n",
              "      <td>No phone service</td>\n",
              "      <td>DSL</td>\n",
              "      <td>Yes</td>\n",
              "      <td>...</td>\n",
              "      <td>Yes</td>\n",
              "      <td>Yes</td>\n",
              "      <td>No</td>\n",
              "      <td>No</td>\n",
              "      <td>One year</td>\n",
              "      <td>No</td>\n",
              "      <td>Bank transfer (automatic)</td>\n",
              "      <td>42.30</td>\n",
              "      <td>1840.75</td>\n",
              "      <td>No</td>\n",
              "    </tr>\n",
              "    <tr>\n",
              "      <th>4</th>\n",
              "      <td>9237-HQITU</td>\n",
              "      <td>Female</td>\n",
              "      <td>0</td>\n",
              "      <td>No</td>\n",
              "      <td>No</td>\n",
              "      <td>2</td>\n",
              "      <td>Yes</td>\n",
              "      <td>No</td>\n",
              "      <td>Fiber optic</td>\n",
              "      <td>No</td>\n",
              "      <td>...</td>\n",
              "      <td>No</td>\n",
              "      <td>No</td>\n",
              "      <td>No</td>\n",
              "      <td>No</td>\n",
              "      <td>Month-to-month</td>\n",
              "      <td>Yes</td>\n",
              "      <td>Electronic check</td>\n",
              "      <td>70.70</td>\n",
              "      <td>151.65</td>\n",
              "      <td>Yes</td>\n",
              "    </tr>\n",
              "  </tbody>\n",
              "</table>\n",
              "<p>5 rows × 21 columns</p>\n",
              "</div>"
            ],
            "text/plain": [
              "   customerID  gender  SeniorCitizen Partner Dependents  tenure PhoneService  \\\n",
              "0  7590-VHVEG  Female              0     Yes         No       1           No   \n",
              "1  5575-GNVDE    Male              0      No         No      34          Yes   \n",
              "2  3668-QPYBK    Male              0      No         No       2          Yes   \n",
              "3  7795-CFOCW    Male              0      No         No      45           No   \n",
              "4  9237-HQITU  Female              0      No         No       2          Yes   \n",
              "\n",
              "      MultipleLines InternetService OnlineSecurity  ... DeviceProtection  \\\n",
              "0  No phone service             DSL             No  ...               No   \n",
              "1                No             DSL            Yes  ...              Yes   \n",
              "2                No             DSL            Yes  ...               No   \n",
              "3  No phone service             DSL            Yes  ...              Yes   \n",
              "4                No     Fiber optic             No  ...               No   \n",
              "\n",
              "  TechSupport StreamingTV StreamingMovies        Contract PaperlessBilling  \\\n",
              "0          No          No              No  Month-to-month              Yes   \n",
              "1          No          No              No        One year               No   \n",
              "2          No          No              No  Month-to-month              Yes   \n",
              "3         Yes          No              No        One year               No   \n",
              "4          No          No              No  Month-to-month              Yes   \n",
              "\n",
              "               PaymentMethod MonthlyCharges  TotalCharges Churn  \n",
              "0           Electronic check          29.85         29.85    No  \n",
              "1               Mailed check          56.95        1889.5    No  \n",
              "2               Mailed check          53.85        108.15   Yes  \n",
              "3  Bank transfer (automatic)          42.30       1840.75    No  \n",
              "4           Electronic check          70.70        151.65   Yes  \n",
              "\n",
              "[5 rows x 21 columns]"
            ]
          },
          "execution_count": 2,
          "metadata": {},
          "output_type": "execute_result"
        }
      ],
      "source": [
        "df = pd.read_csv('train_churn.csv')\n",
        "df.head()"
      ]
    },
    {
      "cell_type": "code",
      "execution_count": 3,
      "id": "a50d532f-f6f2-4ada-b539-1cbea24b9af4",
      "metadata": {
        "id": "a50d532f-f6f2-4ada-b539-1cbea24b9af4"
      },
      "outputs": [],
      "source": [
        "df.drop(['customerID'],axis=1,inplace=True) #drops unneccersay column"
      ]
    },
    {
      "cell_type": "code",
      "execution_count": 4,
      "id": "29091e5e-f964-4e30-b848-15e48f089474",
      "metadata": {
        "colab": {
          "base_uri": "https://localhost:8080/",
          "height": 711
        },
        "id": "29091e5e-f964-4e30-b848-15e48f089474",
        "outputId": "0587a1c4-02c2-4ceb-e78e-ff9c02293208"
      },
      "outputs": [
        {
          "data": {
            "text/plain": [
              "gender               object\n",
              "SeniorCitizen         int64\n",
              "Partner              object\n",
              "Dependents           object\n",
              "tenure                int64\n",
              "PhoneService         object\n",
              "MultipleLines        object\n",
              "InternetService      object\n",
              "OnlineSecurity       object\n",
              "OnlineBackup         object\n",
              "DeviceProtection     object\n",
              "TechSupport          object\n",
              "StreamingTV          object\n",
              "StreamingMovies      object\n",
              "Contract             object\n",
              "PaperlessBilling     object\n",
              "PaymentMethod        object\n",
              "MonthlyCharges      float64\n",
              "TotalCharges         object\n",
              "Churn                object\n",
              "dtype: object"
            ]
          },
          "execution_count": 4,
          "metadata": {},
          "output_type": "execute_result"
        }
      ],
      "source": [
        "df.dtypes"
      ]
    },
    {
      "cell_type": "code",
      "execution_count": 5,
      "id": "b5b6f54b-457a-4662-b857-bac85db50469",
      "metadata": {
        "id": "b5b6f54b-457a-4662-b857-bac85db50469"
      },
      "outputs": [],
      "source": [
        "#total charges shoould be a number and not an object\n",
        "#must convert it to float"
      ]
    },
    {
      "cell_type": "code",
      "execution_count": null,
      "id": "49112f34-a0cf-463e-8111-be303424dd3e",
      "metadata": {
        "id": "49112f34-a0cf-463e-8111-be303424dd3e"
      },
      "outputs": [],
      "source": [
        "pd.to_numeric(df['TotalCharges'])"
      ]
    },
    {
      "cell_type": "code",
      "execution_count": 7,
      "id": "733092a6-9905-42f4-b595-6b98a752e77f",
      "metadata": {
        "colab": {
          "base_uri": "https://localhost:8080/",
          "height": 560
        },
        "id": "733092a6-9905-42f4-b595-6b98a752e77f",
        "outputId": "9bfee3a8-90a1-46b1-9b19-9b35b063b5ee"
      },
      "outputs": [
        {
          "data": {
            "text/plain": [
              "<Axes: >"
            ]
          },
          "execution_count": 7,
          "metadata": {},
          "output_type": "execute_result"
        },
        {
          "data": {
            "image/png": "[encoded data removed]",
            "text/plain": [
              "<Figure size 640x480 with 2 Axes>"
            ]
          },
          "metadata": {},
          "output_type": "display_data"
        }
      ],
      "source": [
        "#this means there are some blanks in this column\n",
        "sns.heatmap(df.isnull(),cmap='viridis')"
      ]
    },
    {
      "cell_type": "code",
      "execution_count": 8,
      "id": "0033aaed-2b05-48df-b736-4187a1bce7e6",
      "metadata": {
        "id": "0033aaed-2b05-48df-b736-4187a1bce7e6"
      },
      "outputs": [],
      "source": [
        "#this means, we dont have any missing values. The entered values here is just a whitespace."
      ]
    },
    {
      "cell_type": "code",
      "execution_count": 9,
      "id": "e01fe825-b64a-476e-ab98-6943da92586a",
      "metadata": {
        "colab": {
          "base_uri": "https://localhost:8080/",
          "height": 458
        },
        "id": "e01fe825-b64a-476e-ab98-6943da92586a",
        "outputId": "54598394-0eac-4bc1-c45f-1e68476d5e90"
      },
      "outputs": [
        {
          "data": {
            "text/plain": [
              "0         29.85\n",
              "1       1889.50\n",
              "2        108.15\n",
              "3       1840.75\n",
              "4        151.65\n",
              "         ...   \n",
              "7038    1990.50\n",
              "7039    7362.90\n",
              "7040     346.45\n",
              "7041     306.60\n",
              "7042    6844.50\n",
              "Name: TotalCharges, Length: 7043, dtype: float64"
            ]
          },
          "execution_count": 9,
          "metadata": {},
          "output_type": "execute_result"
        }
      ],
      "source": [
        "pd.to_numeric(df['TotalCharges'],errors='coerce')"
      ]
    },
    {
      "cell_type": "code",
      "execution_count": 10,
      "id": "a9734aa3-ab8b-4766-90c1-5e912e7bcf74",
      "metadata": {
        "colab": {
          "base_uri": "https://localhost:8080/",
          "height": 570
        },
        "id": "a9734aa3-ab8b-4766-90c1-5e912e7bcf74",
        "outputId": "4ddef9ab-1203-4c8a-d3de-985a27dc4a0c"
      },
      "outputs": [
        {
          "data": {
            "text/html": [
              "<div>\n",
              "<style scoped>\n",
              "    .dataframe tbody tr th:only-of-type {\n",
              "        vertical-align: middle;\n",
              "    }\n",
              "\n",
              "    .dataframe tbody tr th {\n",
              "        vertical-align: top;\n",
              "    }\n",
              "\n",
              "    .dataframe thead th {\n",
              "        text-align: right;\n",
              "    }\n",
              "</style>\n",
              "<table border=\"1\" class=\"dataframe\">\n",
              "  <thead>\n",
              "    <tr style=\"text-align: right;\">\n",
              "      <th></th>\n",
              "      <th>gender</th>\n",
              "      <th>SeniorCitizen</th>\n",
              "      <th>Partner</th>\n",
              "      <th>Dependents</th>\n",
              "      <th>tenure</th>\n",
              "      <th>PhoneService</th>\n",
              "      <th>MultipleLines</th>\n",
              "      <th>InternetService</th>\n",
              "      <th>OnlineSecurity</th>\n",
              "      <th>OnlineBackup</th>\n",
              "      <th>DeviceProtection</th>\n",
              "      <th>TechSupport</th>\n",
              "      <th>StreamingTV</th>\n",
              "      <th>StreamingMovies</th>\n",
              "      <th>Contract</th>\n",
              "      <th>PaperlessBilling</th>\n",
              "      <th>PaymentMethod</th>\n",
              "      <th>MonthlyCharges</th>\n",
              "      <th>TotalCharges</th>\n",
              "      <th>Churn</th>\n",
              "    </tr>\n",
              "  </thead>\n",
              "  <tbody>\n",
              "    <tr>\n",
              "      <th>488</th>\n",
              "      <td>Female</td>\n",
              "      <td>0</td>\n",
              "      <td>Yes</td>\n",
              "      <td>Yes</td>\n",
              "      <td>0</td>\n",
              "      <td>No</td>\n",
              "      <td>No phone service</td>\n",
              "      <td>DSL</td>\n",
              "      <td>Yes</td>\n",
              "      <td>No</td>\n",
              "      <td>Yes</td>\n",
              "      <td>Yes</td>\n",
              "      <td>Yes</td>\n",
              "      <td>No</td>\n",
              "      <td>Two year</td>\n",
              "      <td>Yes</td>\n",
              "      <td>Bank transfer (automatic)</td>\n",
              "      <td>52.55</td>\n",
              "      <td></td>\n",
              "      <td>No</td>\n",
              "    </tr>\n",
              "    <tr>\n",
              "      <th>753</th>\n",
              "      <td>Male</td>\n",
              "      <td>0</td>\n",
              "      <td>No</td>\n",
              "      <td>Yes</td>\n",
              "      <td>0</td>\n",
              "      <td>Yes</td>\n",
              "      <td>No</td>\n",
              "      <td>No</td>\n",
              "      <td>No internet service</td>\n",
              "      <td>No internet service</td>\n",
              "      <td>No internet service</td>\n",
              "      <td>No internet service</td>\n",
              "      <td>No internet service</td>\n",
              "      <td>No internet service</td>\n",
              "      <td>Two year</td>\n",
              "      <td>No</td>\n",
              "      <td>Mailed check</td>\n",
              "      <td>20.25</td>\n",
              "      <td></td>\n",
              "      <td>No</td>\n",
              "    </tr>\n",
              "    <tr>\n",
              "      <th>936</th>\n",
              "      <td>Female</td>\n",
              "      <td>0</td>\n",
              "      <td>Yes</td>\n",
              "      <td>Yes</td>\n",
              "      <td>0</td>\n",
              "      <td>Yes</td>\n",
              "      <td>No</td>\n",
              "      <td>DSL</td>\n",
              "      <td>Yes</td>\n",
              "      <td>Yes</td>\n",
              "      <td>Yes</td>\n",
              "      <td>No</td>\n",
              "      <td>Yes</td>\n",
              "      <td>Yes</td>\n",
              "      <td>Two year</td>\n",
              "      <td>No</td>\n",
              "      <td>Mailed check</td>\n",
              "      <td>80.85</td>\n",
              "      <td></td>\n",
              "      <td>No</td>\n",
              "    </tr>\n",
              "    <tr>\n",
              "      <th>1082</th>\n",
              "      <td>Male</td>\n",
              "      <td>0</td>\n",
              "      <td>Yes</td>\n",
              "      <td>Yes</td>\n",
              "      <td>0</td>\n",
              "      <td>Yes</td>\n",
              "      <td>Yes</td>\n",
              "      <td>No</td>\n",
              "      <td>No internet service</td>\n",
              "      <td>No internet service</td>\n",
              "      <td>No internet service</td>\n",
              "      <td>No internet service</td>\n",
              "      <td>No internet service</td>\n",
              "      <td>No internet service</td>\n",
              "      <td>Two year</td>\n",
              "      <td>No</td>\n",
              "      <td>Mailed check</td>\n",
              "      <td>25.75</td>\n",
              "      <td></td>\n",
              "      <td>No</td>\n",
              "    </tr>\n",
              "    <tr>\n",
              "      <th>1340</th>\n",
              "      <td>Female</td>\n",
              "      <td>0</td>\n",
              "      <td>Yes</td>\n",
              "      <td>Yes</td>\n",
              "      <td>0</td>\n",
              "      <td>No</td>\n",
              "      <td>No phone service</td>\n",
              "      <td>DSL</td>\n",
              "      <td>Yes</td>\n",
              "      <td>Yes</td>\n",
              "      <td>Yes</td>\n",
              "      <td>Yes</td>\n",
              "      <td>Yes</td>\n",
              "      <td>No</td>\n",
              "      <td>Two year</td>\n",
              "      <td>No</td>\n",
              "      <td>Credit card (automatic)</td>\n",
              "      <td>56.05</td>\n",
              "      <td></td>\n",
              "      <td>No</td>\n",
              "    </tr>\n",
              "    <tr>\n",
              "      <th>3331</th>\n",
              "      <td>Male</td>\n",
              "      <td>0</td>\n",
              "      <td>Yes</td>\n",
              "      <td>Yes</td>\n",
              "      <td>0</td>\n",
              "      <td>Yes</td>\n",
              "      <td>No</td>\n",
              "      <td>No</td>\n",
              "      <td>No internet service</td>\n",
              "      <td>No internet service</td>\n",
              "      <td>No internet service</td>\n",
              "      <td>No internet service</td>\n",
              "      <td>No internet service</td>\n",
              "      <td>No internet service</td>\n",
              "      <td>Two year</td>\n",
              "      <td>No</td>\n",
              "      <td>Mailed check</td>\n",
              "      <td>19.85</td>\n",
              "      <td></td>\n",
              "      <td>No</td>\n",
              "    </tr>\n",
              "    <tr>\n",
              "      <th>3826</th>\n",
              "      <td>Male</td>\n",
              "      <td>0</td>\n",
              "      <td>Yes</td>\n",
              "      <td>Yes</td>\n",
              "      <td>0</td>\n",
              "      <td>Yes</td>\n",
              "      <td>Yes</td>\n",
              "      <td>No</td>\n",
              "      <td>No internet service</td>\n",
              "      <td>No internet service</td>\n",
              "      <td>No internet service</td>\n",
              "      <td>No internet service</td>\n",
              "      <td>No internet service</td>\n",
              "      <td>No internet service</td>\n",
              "      <td>Two year</td>\n",
              "      <td>No</td>\n",
              "      <td>Mailed check</td>\n",
              "      <td>25.35</td>\n",
              "      <td></td>\n",
              "      <td>No</td>\n",
              "    </tr>\n",
              "    <tr>\n",
              "      <th>4380</th>\n",
              "      <td>Female</td>\n",
              "      <td>0</td>\n",
              "      <td>Yes</td>\n",
              "      <td>Yes</td>\n",
              "      <td>0</td>\n",
              "      <td>Yes</td>\n",
              "      <td>No</td>\n",
              "      <td>No</td>\n",
              "      <td>No internet service</td>\n",
              "      <td>No internet service</td>\n",
              "      <td>No internet service</td>\n",
              "      <td>No internet service</td>\n",
              "      <td>No internet service</td>\n",
              "      <td>No internet service</td>\n",
              "      <td>Two year</td>\n",
              "      <td>No</td>\n",
              "      <td>Mailed check</td>\n",
              "      <td>20.00</td>\n",
              "      <td></td>\n",
              "      <td>No</td>\n",
              "    </tr>\n",
              "    <tr>\n",
              "      <th>5218</th>\n",
              "      <td>Male</td>\n",
              "      <td>0</td>\n",
              "      <td>Yes</td>\n",
              "      <td>Yes</td>\n",
              "      <td>0</td>\n",
              "      <td>Yes</td>\n",
              "      <td>No</td>\n",
              "      <td>No</td>\n",
              "      <td>No internet service</td>\n",
              "      <td>No internet service</td>\n",
              "      <td>No internet service</td>\n",
              "      <td>No internet service</td>\n",
              "      <td>No internet service</td>\n",
              "      <td>No internet service</td>\n",
              "      <td>One year</td>\n",
              "      <td>Yes</td>\n",
              "      <td>Mailed check</td>\n",
              "      <td>19.70</td>\n",
              "      <td></td>\n",
              "      <td>No</td>\n",
              "    </tr>\n",
              "    <tr>\n",
              "      <th>6670</th>\n",
              "      <td>Female</td>\n",
              "      <td>0</td>\n",
              "      <td>Yes</td>\n",
              "      <td>Yes</td>\n",
              "      <td>0</td>\n",
              "      <td>Yes</td>\n",
              "      <td>Yes</td>\n",
              "      <td>DSL</td>\n",
              "      <td>No</td>\n",
              "      <td>Yes</td>\n",
              "      <td>Yes</td>\n",
              "      <td>Yes</td>\n",
              "      <td>Yes</td>\n",
              "      <td>No</td>\n",
              "      <td>Two year</td>\n",
              "      <td>No</td>\n",
              "      <td>Mailed check</td>\n",
              "      <td>73.35</td>\n",
              "      <td></td>\n",
              "      <td>No</td>\n",
              "    </tr>\n",
              "    <tr>\n",
              "      <th>6754</th>\n",
              "      <td>Male</td>\n",
              "      <td>0</td>\n",
              "      <td>No</td>\n",
              "      <td>Yes</td>\n",
              "      <td>0</td>\n",
              "      <td>Yes</td>\n",
              "      <td>Yes</td>\n",
              "      <td>DSL</td>\n",
              "      <td>Yes</td>\n",
              "      <td>Yes</td>\n",
              "      <td>No</td>\n",
              "      <td>Yes</td>\n",
              "      <td>No</td>\n",
              "      <td>No</td>\n",
              "      <td>Two year</td>\n",
              "      <td>Yes</td>\n",
              "      <td>Bank transfer (automatic)</td>\n",
              "      <td>61.90</td>\n",
              "      <td></td>\n",
              "      <td>No</td>\n",
              "    </tr>\n",
              "  </tbody>\n",
              "</table>\n",
              "</div>"
            ],
            "text/plain": [
              "      gender  SeniorCitizen Partner Dependents  tenure PhoneService  \\\n",
              "488   Female              0     Yes        Yes       0           No   \n",
              "753     Male              0      No        Yes       0          Yes   \n",
              "936   Female              0     Yes        Yes       0          Yes   \n",
              "1082    Male              0     Yes        Yes       0          Yes   \n",
              "1340  Female              0     Yes        Yes       0           No   \n",
              "3331    Male              0     Yes        Yes       0          Yes   \n",
              "3826    Male              0     Yes        Yes       0          Yes   \n",
              "4380  Female              0     Yes        Yes       0          Yes   \n",
              "5218    Male              0     Yes        Yes       0          Yes   \n",
              "6670  Female              0     Yes        Yes       0          Yes   \n",
              "6754    Male              0      No        Yes       0          Yes   \n",
              "\n",
              "         MultipleLines InternetService       OnlineSecurity  \\\n",
              "488   No phone service             DSL                  Yes   \n",
              "753                 No              No  No internet service   \n",
              "936                 No             DSL                  Yes   \n",
              "1082               Yes              No  No internet service   \n",
              "1340  No phone service             DSL                  Yes   \n",
              "3331                No              No  No internet service   \n",
              "3826               Yes              No  No internet service   \n",
              "4380                No              No  No internet service   \n",
              "5218                No              No  No internet service   \n",
              "6670               Yes             DSL                   No   \n",
              "6754               Yes             DSL                  Yes   \n",
              "\n",
              "             OnlineBackup     DeviceProtection          TechSupport  \\\n",
              "488                    No                  Yes                  Yes   \n",
              "753   No internet service  No internet service  No internet service   \n",
              "936                   Yes                  Yes                   No   \n",
              "1082  No internet service  No internet service  No internet service   \n",
              "1340                  Yes                  Yes                  Yes   \n",
              "3331  No internet service  No internet service  No internet service   \n",
              "3826  No internet service  No internet service  No internet service   \n",
              "4380  No internet service  No internet service  No internet service   \n",
              "5218  No internet service  No internet service  No internet service   \n",
              "6670                  Yes                  Yes                  Yes   \n",
              "6754                  Yes                   No                  Yes   \n",
              "\n",
              "              StreamingTV      StreamingMovies  Contract PaperlessBilling  \\\n",
              "488                   Yes                   No  Two year              Yes   \n",
              "753   No internet service  No internet service  Two year               No   \n",
              "936                   Yes                  Yes  Two year               No   \n",
              "1082  No internet service  No internet service  Two year               No   \n",
              "1340                  Yes                   No  Two year               No   \n",
              "3331  No internet service  No internet service  Two year               No   \n",
              "3826  No internet service  No internet service  Two year               No   \n",
              "4380  No internet service  No internet service  Two year               No   \n",
              "5218  No internet service  No internet service  One year              Yes   \n",
              "6670                  Yes                   No  Two year               No   \n",
              "6754                   No                   No  Two year              Yes   \n",
              "\n",
              "                  PaymentMethod  MonthlyCharges TotalCharges Churn  \n",
              "488   Bank transfer (automatic)           52.55                 No  \n",
              "753                Mailed check           20.25                 No  \n",
              "936                Mailed check           80.85                 No  \n",
              "1082               Mailed check           25.75                 No  \n",
              "1340    Credit card (automatic)           56.05                 No  \n",
              "3331               Mailed check           19.85                 No  \n",
              "3826               Mailed check           25.35                 No  \n",
              "4380               Mailed check           20.00                 No  \n",
              "5218               Mailed check           19.70                 No  \n",
              "6670               Mailed check           73.35                 No  \n",
              "6754  Bank transfer (automatic)           61.90                 No  "
            ]
          },
          "execution_count": 10,
          "metadata": {},
          "output_type": "execute_result"
        }
      ],
      "source": [
        "df[pd.to_numeric(df['TotalCharges'],errors='coerce').isnull()]\n",
        "#pd.to_numeric(df['TotalCharges'],errors='coerce').isnull() serves as\n",
        "#index to total charges values that were set as null by errors=coerce"
      ]
    },
    {
      "cell_type": "code",
      "execution_count": 11,
      "id": "78b0c294-91a6-4966-af00-c5b9f60f9814",
      "metadata": {
        "id": "78b0c294-91a6-4966-af00-c5b9f60f9814"
      },
      "outputs": [],
      "source": [
        "#We gonna drop these 11 rows, since no big deal"
      ]
    },
    {
      "cell_type": "code",
      "execution_count": 12,
      "id": "dd480740-5a22-44ff-ba4c-25986e536884",
      "metadata": {
        "colab": {
          "base_uri": "https://localhost:8080/"
        },
        "id": "dd480740-5a22-44ff-ba4c-25986e536884",
        "outputId": "6348104f-49bc-4a78-9526-4c3bf98ea505"
      },
      "outputs": [
        {
          "data": {
            "text/plain": [
              "(7043, 20)"
            ]
          },
          "execution_count": 12,
          "metadata": {},
          "output_type": "execute_result"
        }
      ],
      "source": [
        "df.shape"
      ]
    },
    {
      "cell_type": "code",
      "execution_count": 13,
      "id": "59cb7a12-371d-439c-961a-25a9c99515c3",
      "metadata": {
        "colab": {
          "base_uri": "https://localhost:8080/",
          "height": 36
        },
        "id": "59cb7a12-371d-439c-961a-25a9c99515c3",
        "outputId": "e2dd23f4-6c88-41ef-f77c-88b2bfdd847e"
      },
      "outputs": [
        {
          "data": {
            "text/plain": [
              "' '"
            ]
          },
          "execution_count": 13,
          "metadata": {},
          "output_type": "execute_result"
        }
      ],
      "source": [
        "df.TotalCharges.iloc[488]\n",
        "#we need to remove rows that have this as their totalcharges value"
      ]
    },
    {
      "cell_type": "code",
      "execution_count": 14,
      "id": "844aa9fd-2a3f-4f7b-8ee4-223e3bccfb95",
      "metadata": {
        "colab": {
          "base_uri": "https://localhost:8080/"
        },
        "id": "844aa9fd-2a3f-4f7b-8ee4-223e3bccfb95",
        "outputId": "835549aa-74e5-4cb6-8453-4eee5dfe7af4"
      },
      "outputs": [
        {
          "data": {
            "text/plain": [
              "(7032, 20)"
            ]
          },
          "execution_count": 14,
          "metadata": {},
          "output_type": "execute_result"
        }
      ],
      "source": [
        "df1 = df[df['TotalCharges'] != ' ']\n",
        "df1.shape"
      ]
    },
    {
      "cell_type": "code",
      "execution_count": 15,
      "id": "ef91f2f8-3d6e-428d-bfb7-d2d71a61cc59",
      "metadata": {
        "colab": {
          "base_uri": "https://localhost:8080/",
          "height": 711
        },
        "id": "ef91f2f8-3d6e-428d-bfb7-d2d71a61cc59",
        "outputId": "757bec8c-6b8a-425b-f0c8-8b9885b7441d"
      },
      "outputs": [
        {
          "data": {
            "text/plain": [
              "gender               object\n",
              "SeniorCitizen         int64\n",
              "Partner              object\n",
              "Dependents           object\n",
              "tenure                int64\n",
              "PhoneService         object\n",
              "MultipleLines        object\n",
              "InternetService      object\n",
              "OnlineSecurity       object\n",
              "OnlineBackup         object\n",
              "DeviceProtection     object\n",
              "TechSupport          object\n",
              "StreamingTV          object\n",
              "StreamingMovies      object\n",
              "Contract             object\n",
              "PaperlessBilling     object\n",
              "PaymentMethod        object\n",
              "MonthlyCharges      float64\n",
              "TotalCharges         object\n",
              "Churn                object\n",
              "dtype: object"
            ]
          },
          "execution_count": 15,
          "metadata": {},
          "output_type": "execute_result"
        }
      ],
      "source": [
        "df1.dtypes"
      ]
    },
    {
      "cell_type": "code",
      "execution_count": 16,
      "id": "e33eed30-9755-49a8-887d-c408cb3d4ead",
      "metadata": {
        "id": "e33eed30-9755-49a8-887d-c408cb3d4ead"
      },
      "outputs": [],
      "source": [
        "#now we can convert totalcharges to number easily"
      ]
    },
    {
      "cell_type": "code",
      "execution_count": 17,
      "id": "280eabea-21bf-47b8-92f4-c115b5106f94",
      "metadata": {
        "colab": {
          "base_uri": "https://localhost:8080/"
        },
        "id": "280eabea-21bf-47b8-92f4-c115b5106f94",
        "outputId": "fadbe3b4-afc5-4471-f067-c5caee7398a2"
      },
      "outputs": [
        {
          "name": "stderr",
          "output_type": "stream",
          "text": [
            "/var/folders/fk/_w73713n2zg8v7slb7vhljxr0000gn/T/ipykernel_1560/695980592.py:1: SettingWithCopyWarning: \n",
            "A value is trying to be set on a copy of a slice from a DataFrame.\n",
            "Try using .loc[row_indexer,col_indexer] = value instead\n",
            "\n",
            "See the caveats in the documentation: https://pandas.pydata.org/pandas-docs/stable/user_guide/indexing.html#returning-a-view-versus-a-copy\n",
            "  df1.TotalCharges=pd.to_numeric(df1.TotalCharges)\n"
          ]
        }
      ],
      "source": [
        "df1.TotalCharges=pd.to_numeric(df1.TotalCharges)"
      ]
    },
    {
      "cell_type": "code",
      "execution_count": 18,
      "id": "a27fdc70-fd65-4465-8077-a18770cc3cd1",
      "metadata": {
        "colab": {
          "base_uri": "https://localhost:8080/"
        },
        "id": "a27fdc70-fd65-4465-8077-a18770cc3cd1",
        "outputId": "7ac3c0e0-dd64-46b3-a9c7-9d67dcb1561c"
      },
      "outputs": [
        {
          "data": {
            "text/plain": [
              "dtype('float64')"
            ]
          },
          "execution_count": 18,
          "metadata": {},
          "output_type": "execute_result"
        }
      ],
      "source": [
        "df1['TotalCharges'].dtype"
      ]
    },
    {
      "cell_type": "code",
      "execution_count": 19,
      "id": "e6342e2c-8f02-4821-88cb-4d6785d85a2f",
      "metadata": {
        "colab": {
          "base_uri": "https://localhost:8080/"
        },
        "id": "e6342e2c-8f02-4821-88cb-4d6785d85a2f",
        "outputId": "71c99f25-e6a6-48fd-f973-917dec6b655a"
      },
      "outputs": [
        {
          "data": {
            "text/plain": [
              "array([  29.85, 1889.5 ,  108.15, ...,  346.45,  306.6 , 6844.5 ])"
            ]
          },
          "execution_count": 19,
          "metadata": {},
          "output_type": "execute_result"
        }
      ],
      "source": [
        "df1['TotalCharges'].values"
      ]
    },
    {
      "cell_type": "code",
      "execution_count": 20,
      "id": "ac25a911-815f-4994-875d-8b6c5444a71d",
      "metadata": {
        "colab": {
          "base_uri": "https://localhost:8080/",
          "height": 582
        },
        "id": "ac25a911-815f-4994-875d-8b6c5444a71d",
        "outputId": "67658124-04fd-414c-fd0c-22fb1f73f933"
      },
      "outputs": [
        {
          "data": {
            "text/html": [
              "<div>\n",
              "<style scoped>\n",
              "    .dataframe tbody tr th:only-of-type {\n",
              "        vertical-align: middle;\n",
              "    }\n",
              "\n",
              "    .dataframe tbody tr th {\n",
              "        vertical-align: top;\n",
              "    }\n",
              "\n",
              "    .dataframe thead th {\n",
              "        text-align: right;\n",
              "    }\n",
              "</style>\n",
              "<table border=\"1\" class=\"dataframe\">\n",
              "  <thead>\n",
              "    <tr style=\"text-align: right;\">\n",
              "      <th></th>\n",
              "      <th>gender</th>\n",
              "      <th>SeniorCitizen</th>\n",
              "      <th>Partner</th>\n",
              "      <th>Dependents</th>\n",
              "      <th>tenure</th>\n",
              "      <th>PhoneService</th>\n",
              "      <th>MultipleLines</th>\n",
              "      <th>InternetService</th>\n",
              "      <th>OnlineSecurity</th>\n",
              "      <th>OnlineBackup</th>\n",
              "      <th>DeviceProtection</th>\n",
              "      <th>TechSupport</th>\n",
              "      <th>StreamingTV</th>\n",
              "      <th>StreamingMovies</th>\n",
              "      <th>Contract</th>\n",
              "      <th>PaperlessBilling</th>\n",
              "      <th>PaymentMethod</th>\n",
              "      <th>MonthlyCharges</th>\n",
              "      <th>TotalCharges</th>\n",
              "      <th>Churn</th>\n",
              "    </tr>\n",
              "  </thead>\n",
              "  <tbody>\n",
              "    <tr>\n",
              "      <th>0</th>\n",
              "      <td>Female</td>\n",
              "      <td>0</td>\n",
              "      <td>Yes</td>\n",
              "      <td>No</td>\n",
              "      <td>1</td>\n",
              "      <td>No</td>\n",
              "      <td>No phone service</td>\n",
              "      <td>DSL</td>\n",
              "      <td>No</td>\n",
              "      <td>Yes</td>\n",
              "      <td>No</td>\n",
              "      <td>No</td>\n",
              "      <td>No</td>\n",
              "      <td>No</td>\n",
              "      <td>Month-to-month</td>\n",
              "      <td>Yes</td>\n",
              "      <td>Electronic check</td>\n",
              "      <td>29.85</td>\n",
              "      <td>29.85</td>\n",
              "      <td>No</td>\n",
              "    </tr>\n",
              "    <tr>\n",
              "      <th>1</th>\n",
              "      <td>Male</td>\n",
              "      <td>0</td>\n",
              "      <td>No</td>\n",
              "      <td>No</td>\n",
              "      <td>34</td>\n",
              "      <td>Yes</td>\n",
              "      <td>No</td>\n",
              "      <td>DSL</td>\n",
              "      <td>Yes</td>\n",
              "      <td>No</td>\n",
              "      <td>Yes</td>\n",
              "      <td>No</td>\n",
              "      <td>No</td>\n",
              "      <td>No</td>\n",
              "      <td>One year</td>\n",
              "      <td>No</td>\n",
              "      <td>Mailed check</td>\n",
              "      <td>56.95</td>\n",
              "      <td>1889.50</td>\n",
              "      <td>No</td>\n",
              "    </tr>\n",
              "    <tr>\n",
              "      <th>3</th>\n",
              "      <td>Male</td>\n",
              "      <td>0</td>\n",
              "      <td>No</td>\n",
              "      <td>No</td>\n",
              "      <td>45</td>\n",
              "      <td>No</td>\n",
              "      <td>No phone service</td>\n",
              "      <td>DSL</td>\n",
              "      <td>Yes</td>\n",
              "      <td>No</td>\n",
              "      <td>Yes</td>\n",
              "      <td>Yes</td>\n",
              "      <td>No</td>\n",
              "      <td>No</td>\n",
              "      <td>One year</td>\n",
              "      <td>No</td>\n",
              "      <td>Bank transfer (automatic)</td>\n",
              "      <td>42.30</td>\n",
              "      <td>1840.75</td>\n",
              "      <td>No</td>\n",
              "    </tr>\n",
              "    <tr>\n",
              "      <th>6</th>\n",
              "      <td>Male</td>\n",
              "      <td>0</td>\n",
              "      <td>No</td>\n",
              "      <td>Yes</td>\n",
              "      <td>22</td>\n",
              "      <td>Yes</td>\n",
              "      <td>Yes</td>\n",
              "      <td>Fiber optic</td>\n",
              "      <td>No</td>\n",
              "      <td>Yes</td>\n",
              "      <td>No</td>\n",
              "      <td>No</td>\n",
              "      <td>Yes</td>\n",
              "      <td>No</td>\n",
              "      <td>Month-to-month</td>\n",
              "      <td>Yes</td>\n",
              "      <td>Credit card (automatic)</td>\n",
              "      <td>89.10</td>\n",
              "      <td>1949.40</td>\n",
              "      <td>No</td>\n",
              "    </tr>\n",
              "    <tr>\n",
              "      <th>7</th>\n",
              "      <td>Female</td>\n",
              "      <td>0</td>\n",
              "      <td>No</td>\n",
              "      <td>No</td>\n",
              "      <td>10</td>\n",
              "      <td>No</td>\n",
              "      <td>No phone service</td>\n",
              "      <td>DSL</td>\n",
              "      <td>Yes</td>\n",
              "      <td>No</td>\n",
              "      <td>No</td>\n",
              "      <td>No</td>\n",
              "      <td>No</td>\n",
              "      <td>No</td>\n",
              "      <td>Month-to-month</td>\n",
              "      <td>No</td>\n",
              "      <td>Mailed check</td>\n",
              "      <td>29.75</td>\n",
              "      <td>301.90</td>\n",
              "      <td>No</td>\n",
              "    </tr>\n",
              "    <tr>\n",
              "      <th>...</th>\n",
              "      <td>...</td>\n",
              "      <td>...</td>\n",
              "      <td>...</td>\n",
              "      <td>...</td>\n",
              "      <td>...</td>\n",
              "      <td>...</td>\n",
              "      <td>...</td>\n",
              "      <td>...</td>\n",
              "      <td>...</td>\n",
              "      <td>...</td>\n",
              "      <td>...</td>\n",
              "      <td>...</td>\n",
              "      <td>...</td>\n",
              "      <td>...</td>\n",
              "      <td>...</td>\n",
              "      <td>...</td>\n",
              "      <td>...</td>\n",
              "      <td>...</td>\n",
              "      <td>...</td>\n",
              "      <td>...</td>\n",
              "    </tr>\n",
              "    <tr>\n",
              "      <th>7037</th>\n",
              "      <td>Female</td>\n",
              "      <td>0</td>\n",
              "      <td>No</td>\n",
              "      <td>No</td>\n",
              "      <td>72</td>\n",
              "      <td>Yes</td>\n",
              "      <td>No</td>\n",
              "      <td>No</td>\n",
              "      <td>No internet service</td>\n",
              "      <td>No internet service</td>\n",
              "      <td>No internet service</td>\n",
              "      <td>No internet service</td>\n",
              "      <td>No internet service</td>\n",
              "      <td>No internet service</td>\n",
              "      <td>Two year</td>\n",
              "      <td>Yes</td>\n",
              "      <td>Bank transfer (automatic)</td>\n",
              "      <td>21.15</td>\n",
              "      <td>1419.40</td>\n",
              "      <td>No</td>\n",
              "    </tr>\n",
              "    <tr>\n",
              "      <th>7038</th>\n",
              "      <td>Male</td>\n",
              "      <td>0</td>\n",
              "      <td>Yes</td>\n",
              "      <td>Yes</td>\n",
              "      <td>24</td>\n",
              "      <td>Yes</td>\n",
              "      <td>Yes</td>\n",
              "      <td>DSL</td>\n",
              "      <td>Yes</td>\n",
              "      <td>No</td>\n",
              "      <td>Yes</td>\n",
              "      <td>Yes</td>\n",
              "      <td>Yes</td>\n",
              "      <td>Yes</td>\n",
              "      <td>One year</td>\n",
              "      <td>Yes</td>\n",
              "      <td>Mailed check</td>\n",
              "      <td>84.80</td>\n",
              "      <td>1990.50</td>\n",
              "      <td>No</td>\n",
              "    </tr>\n",
              "    <tr>\n",
              "      <th>7039</th>\n",
              "      <td>Female</td>\n",
              "      <td>0</td>\n",
              "      <td>Yes</td>\n",
              "      <td>Yes</td>\n",
              "      <td>72</td>\n",
              "      <td>Yes</td>\n",
              "      <td>Yes</td>\n",
              "      <td>Fiber optic</td>\n",
              "      <td>No</td>\n",
              "      <td>Yes</td>\n",
              "      <td>Yes</td>\n",
              "      <td>No</td>\n",
              "      <td>Yes</td>\n",
              "      <td>Yes</td>\n",
              "      <td>One year</td>\n",
              "      <td>Yes</td>\n",
              "      <td>Credit card (automatic)</td>\n",
              "      <td>103.20</td>\n",
              "      <td>7362.90</td>\n",
              "      <td>No</td>\n",
              "    </tr>\n",
              "    <tr>\n",
              "      <th>7040</th>\n",
              "      <td>Female</td>\n",
              "      <td>0</td>\n",
              "      <td>Yes</td>\n",
              "      <td>Yes</td>\n",
              "      <td>11</td>\n",
              "      <td>No</td>\n",
              "      <td>No phone service</td>\n",
              "      <td>DSL</td>\n",
              "      <td>Yes</td>\n",
              "      <td>No</td>\n",
              "      <td>No</td>\n",
              "      <td>No</td>\n",
              "      <td>No</td>\n",
              "      <td>No</td>\n",
              "      <td>Month-to-month</td>\n",
              "      <td>Yes</td>\n",
              "      <td>Electronic check</td>\n",
              "      <td>29.60</td>\n",
              "      <td>346.45</td>\n",
              "      <td>No</td>\n",
              "    </tr>\n",
              "    <tr>\n",
              "      <th>7042</th>\n",
              "      <td>Male</td>\n",
              "      <td>0</td>\n",
              "      <td>No</td>\n",
              "      <td>No</td>\n",
              "      <td>66</td>\n",
              "      <td>Yes</td>\n",
              "      <td>No</td>\n",
              "      <td>Fiber optic</td>\n",
              "      <td>Yes</td>\n",
              "      <td>No</td>\n",
              "      <td>Yes</td>\n",
              "      <td>Yes</td>\n",
              "      <td>Yes</td>\n",
              "      <td>Yes</td>\n",
              "      <td>Two year</td>\n",
              "      <td>Yes</td>\n",
              "      <td>Bank transfer (automatic)</td>\n",
              "      <td>105.65</td>\n",
              "      <td>6844.50</td>\n",
              "      <td>No</td>\n",
              "    </tr>\n",
              "  </tbody>\n",
              "</table>\n",
              "<p>5163 rows × 20 columns</p>\n",
              "</div>"
            ],
            "text/plain": [
              "      gender  SeniorCitizen Partner Dependents  tenure PhoneService  \\\n",
              "0     Female              0     Yes         No       1           No   \n",
              "1       Male              0      No         No      34          Yes   \n",
              "3       Male              0      No         No      45           No   \n",
              "6       Male              0      No        Yes      22          Yes   \n",
              "7     Female              0      No         No      10           No   \n",
              "...      ...            ...     ...        ...     ...          ...   \n",
              "7037  Female              0      No         No      72          Yes   \n",
              "7038    Male              0     Yes        Yes      24          Yes   \n",
              "7039  Female              0     Yes        Yes      72          Yes   \n",
              "7040  Female              0     Yes        Yes      11           No   \n",
              "7042    Male              0      No         No      66          Yes   \n",
              "\n",
              "         MultipleLines InternetService       OnlineSecurity  \\\n",
              "0     No phone service             DSL                   No   \n",
              "1                   No             DSL                  Yes   \n",
              "3     No phone service             DSL                  Yes   \n",
              "6                  Yes     Fiber optic                   No   \n",
              "7     No phone service             DSL                  Yes   \n",
              "...                ...             ...                  ...   \n",
              "7037                No              No  No internet service   \n",
              "7038               Yes             DSL                  Yes   \n",
              "7039               Yes     Fiber optic                   No   \n",
              "7040  No phone service             DSL                  Yes   \n",
              "7042                No     Fiber optic                  Yes   \n",
              "\n",
              "             OnlineBackup     DeviceProtection          TechSupport  \\\n",
              "0                     Yes                   No                   No   \n",
              "1                      No                  Yes                   No   \n",
              "3                      No                  Yes                  Yes   \n",
              "6                     Yes                   No                   No   \n",
              "7                      No                   No                   No   \n",
              "...                   ...                  ...                  ...   \n",
              "7037  No internet service  No internet service  No internet service   \n",
              "7038                   No                  Yes                  Yes   \n",
              "7039                  Yes                  Yes                   No   \n",
              "7040                   No                   No                   No   \n",
              "7042                   No                  Yes                  Yes   \n",
              "\n",
              "              StreamingTV      StreamingMovies        Contract  \\\n",
              "0                      No                   No  Month-to-month   \n",
              "1                      No                   No        One year   \n",
              "3                      No                   No        One year   \n",
              "6                     Yes                   No  Month-to-month   \n",
              "7                      No                   No  Month-to-month   \n",
              "...                   ...                  ...             ...   \n",
              "7037  No internet service  No internet service        Two year   \n",
              "7038                  Yes                  Yes        One year   \n",
              "7039                  Yes                  Yes        One year   \n",
              "7040                   No                   No  Month-to-month   \n",
              "7042                  Yes                  Yes        Two year   \n",
              "\n",
              "     PaperlessBilling              PaymentMethod  MonthlyCharges  \\\n",
              "0                 Yes           Electronic check           29.85   \n",
              "1                  No               Mailed check           56.95   \n",
              "3                  No  Bank transfer (automatic)           42.30   \n",
              "6                 Yes    Credit card (automatic)           89.10   \n",
              "7                  No               Mailed check           29.75   \n",
              "...               ...                        ...             ...   \n",
              "7037              Yes  Bank transfer (automatic)           21.15   \n",
              "7038              Yes               Mailed check           84.80   \n",
              "7039              Yes    Credit card (automatic)          103.20   \n",
              "7040              Yes           Electronic check           29.60   \n",
              "7042              Yes  Bank transfer (automatic)          105.65   \n",
              "\n",
              "      TotalCharges Churn  \n",
              "0            29.85    No  \n",
              "1          1889.50    No  \n",
              "3          1840.75    No  \n",
              "6          1949.40    No  \n",
              "7           301.90    No  \n",
              "...            ...   ...  \n",
              "7037       1419.40    No  \n",
              "7038       1990.50    No  \n",
              "7039       7362.90    No  \n",
              "7040        346.45    No  \n",
              "7042       6844.50    No  \n",
              "\n",
              "[5163 rows x 20 columns]"
            ]
          },
          "execution_count": 20,
          "metadata": {},
          "output_type": "execute_result"
        }
      ],
      "source": [
        "df1[df1['Churn']=='No']"
      ]
    },
    {
      "cell_type": "code",
      "execution_count": 21,
      "id": "888d599e-6790-4a0f-853b-c222a996c2c2",
      "metadata": {
        "colab": {
          "base_uri": "https://localhost:8080/",
          "height": 489
        },
        "id": "888d599e-6790-4a0f-853b-c222a996c2c2",
        "outputId": "b3e74942-8078-4d05-9193-2ddec38ab204"
      },
      "outputs": [
        {
          "data": {
            "text/plain": [
              "<matplotlib.legend.Legend at 0x317bec3d0>"
            ]
          },
          "execution_count": 21,
          "metadata": {},
          "output_type": "execute_result"
        },
        {
          "data": {
            "image/png": "[encoded data removed]",
            "text/plain": [
              "<Figure size 640x480 with 1 Axes>"
            ]
          },
          "metadata": {},
          "output_type": "display_data"
        }
      ],
      "source": [
        "tenure_churn_yes =df1[df1.Churn=='Yes']['tenure']\n",
        "tenure_churn_no =df1[df1.Churn=='No']['tenure']\n",
        "plt.xlabel(\"tenure\")\n",
        "plt.ylabel(\"Number Of Customers\")\n",
        "plt.title(\"Customer Churn Prediction Visualiztion\")\n",
        "\n",
        "plt.hist([tenure_churn_no,tenure_churn_yes],color=['green','red'])\n",
        "plt.hist([tenure_churn_yes,tenure_churn_no],color=['red','green'],label=['ChurnYes','ChurnNo'])\n",
        "plt.legend()"
      ]
    },
    {
      "cell_type": "code",
      "execution_count": 22,
      "id": "8f0a7e54-83f6-41a4-8562-a7b1657260b6",
      "metadata": {
        "id": "8f0a7e54-83f6-41a4-8562-a7b1657260b6"
      },
      "outputs": [],
      "source": [
        "# old users generally dont churn basically"
      ]
    },
    {
      "cell_type": "code",
      "execution_count": 23,
      "id": "PIU-RWp8d27M",
      "metadata": {
        "colab": {
          "base_uri": "https://localhost:8080/",
          "height": 489
        },
        "id": "PIU-RWp8d27M",
        "outputId": "6fc3f866-47c5-4966-8520-f98631053777"
      },
      "outputs": [
        {
          "data": {
            "text/plain": [
              "<matplotlib.legend.Legend at 0x317475a80>"
            ]
          },
          "execution_count": 23,
          "metadata": {},
          "output_type": "execute_result"
        },
        {
          "data": {
            "image/png": "[encoded data removed]",
            "text/plain": [
              "<Figure size 640x480 with 1 Axes>"
            ]
          },
          "metadata": {},
          "output_type": "display_data"
        }
      ],
      "source": [
        "#chart for monthly charges\n",
        "mc_churn_no = df1[df1.Churn=='No'].MonthlyCharges\n",
        "mc_churn_yes = df1[df1.Churn=='Yes'].MonthlyCharges\n",
        "\n",
        "plt.xlabel(\"Monthly Charges\")\n",
        "plt.ylabel(\"Number Of Customers\")\n",
        "plt.title(\"Customer Churn Prediction Visualiztion\")\n",
        "\n",
        "blood_sugar_men = [113, 85, 90, 150, 149, 88, 93, 115, 135, 80, 77, 82, 129]\n",
        "blood_sugar_women = [67, 98, 89, 120, 133, 150, 84, 69, 89, 79, 120, 112, 100]\n",
        "\n",
        "plt.hist([mc_churn_yes, mc_churn_no], rwidth=0.95, color=['red','green'],label=['Churn=Yes','Churn=No'])\n",
        "plt.legend()"
      ]
    },
    {
      "cell_type": "code",
      "execution_count": 24,
      "id": "hKUP9669eQuS",
      "metadata": {
        "id": "hKUP9669eQuS"
      },
      "outputs": [],
      "source": [
        "#mid range customers tends to leave less"
      ]
    },
    {
      "cell_type": "code",
      "execution_count": 25,
      "id": "bb6f60dc-b9ae-4cfe-bd7e-544069886c0b",
      "metadata": {
        "id": "bb6f60dc-b9ae-4cfe-bd7e-544069886c0b"
      },
      "outputs": [],
      "source": [
        "def unique_vals(df):\n",
        "    for col in df.columns:\n",
        "        if df[col].dtype == 'O':\n",
        "            print(col,\": \",df[col].unique())"
      ]
    },
    {
      "cell_type": "code",
      "execution_count": 26,
      "id": "c3cdc32f-c497-4b2e-b3fa-96623c834606",
      "metadata": {
        "colab": {
          "base_uri": "https://localhost:8080/"
        },
        "id": "c3cdc32f-c497-4b2e-b3fa-96623c834606",
        "outputId": "349d58a6-d6b4-49e7-8dc5-499fad4badc4"
      },
      "outputs": [
        {
          "name": "stdout",
          "output_type": "stream",
          "text": [
            "gender :  ['Female' 'Male']\n",
            "Partner :  ['Yes' 'No']\n",
            "Dependents :  ['No' 'Yes']\n",
            "PhoneService :  ['No' 'Yes']\n",
            "MultipleLines :  ['No phone service' 'No' 'Yes']\n",
            "InternetService :  ['DSL' 'Fiber optic' 'No']\n",
            "OnlineSecurity :  ['No' 'Yes' 'No internet service']\n",
            "OnlineBackup :  ['Yes' 'No' 'No internet service']\n",
            "DeviceProtection :  ['No' 'Yes' 'No internet service']\n",
            "TechSupport :  ['No' 'Yes' 'No internet service']\n",
            "StreamingTV :  ['No' 'Yes' 'No internet service']\n",
            "StreamingMovies :  ['No' 'Yes' 'No internet service']\n",
            "Contract :  ['Month-to-month' 'One year' 'Two year']\n",
            "PaperlessBilling :  ['Yes' 'No']\n",
            "PaymentMethod :  ['Electronic check' 'Mailed check' 'Bank transfer (automatic)'\n",
            " 'Credit card (automatic)']\n",
            "Churn :  ['No' 'Yes']\n"
          ]
        }
      ],
      "source": [
        "unique_vals(df1)"
      ]
    },
    {
      "cell_type": "code",
      "execution_count": 27,
      "id": "db393f80-ffa7-4998-8f33-a14a95f7f0a1",
      "metadata": {
        "id": "db393f80-ffa7-4998-8f33-a14a95f7f0a1"
      },
      "outputs": [],
      "source": [
        "#no phone/internet service = no only"
      ]
    },
    {
      "cell_type": "code",
      "execution_count": 28,
      "id": "8f3d0a00-8516-4661-be26-a6d25a8cc232",
      "metadata": {
        "colab": {
          "base_uri": "https://localhost:8080/"
        },
        "id": "8f3d0a00-8516-4661-be26-a6d25a8cc232",
        "outputId": "292b4ebd-3c75-4a6a-a6c7-25f1e1db6e62"
      },
      "outputs": [
        {
          "name": "stderr",
          "output_type": "stream",
          "text": [
            "/var/folders/fk/_w73713n2zg8v7slb7vhljxr0000gn/T/ipykernel_1560/3221983738.py:1: SettingWithCopyWarning: \n",
            "A value is trying to be set on a copy of a slice from a DataFrame\n",
            "\n",
            "See the caveats in the documentation: https://pandas.pydata.org/pandas-docs/stable/user_guide/indexing.html#returning-a-view-versus-a-copy\n",
            "  df1.replace('No phone service','No',inplace=True)\n",
            "/var/folders/fk/_w73713n2zg8v7slb7vhljxr0000gn/T/ipykernel_1560/3221983738.py:2: SettingWithCopyWarning: \n",
            "A value is trying to be set on a copy of a slice from a DataFrame\n",
            "\n",
            "See the caveats in the documentation: https://pandas.pydata.org/pandas-docs/stable/user_guide/indexing.html#returning-a-view-versus-a-copy\n",
            "  df1.replace('No internet service','No',inplace=True)\n"
          ]
        }
      ],
      "source": [
        "df1.replace('No phone service','No',inplace=True)\n",
        "df1.replace('No internet service','No',inplace=True)"
      ]
    },
    {
      "cell_type": "code",
      "execution_count": 29,
      "id": "d8f48350-1fb5-4902-b262-6d5878b29136",
      "metadata": {
        "colab": {
          "base_uri": "https://localhost:8080/"
        },
        "id": "d8f48350-1fb5-4902-b262-6d5878b29136",
        "outputId": "b431b74e-332e-4a05-d5e5-1cc86bda9bb4"
      },
      "outputs": [
        {
          "name": "stdout",
          "output_type": "stream",
          "text": [
            "gender :  ['Female' 'Male']\n",
            "Partner :  ['Yes' 'No']\n",
            "Dependents :  ['No' 'Yes']\n",
            "PhoneService :  ['No' 'Yes']\n",
            "MultipleLines :  ['No' 'Yes']\n",
            "InternetService :  ['DSL' 'Fiber optic' 'No']\n",
            "OnlineSecurity :  ['No' 'Yes']\n",
            "OnlineBackup :  ['Yes' 'No']\n",
            "DeviceProtection :  ['No' 'Yes']\n",
            "TechSupport :  ['No' 'Yes']\n",
            "StreamingTV :  ['No' 'Yes']\n",
            "StreamingMovies :  ['No' 'Yes']\n",
            "Contract :  ['Month-to-month' 'One year' 'Two year']\n",
            "PaperlessBilling :  ['Yes' 'No']\n",
            "PaymentMethod :  ['Electronic check' 'Mailed check' 'Bank transfer (automatic)'\n",
            " 'Credit card (automatic)']\n",
            "Churn :  ['No' 'Yes']\n"
          ]
        }
      ],
      "source": [
        "unique_vals(df1)"
      ]
    },
    {
      "cell_type": "code",
      "execution_count": 30,
      "id": "51f2762c-97c0-4b35-bf9c-6ea7f61c73e1",
      "metadata": {
        "id": "51f2762c-97c0-4b35-bf9c-6ea7f61c73e1"
      },
      "outputs": [],
      "source": [
        "#we eed to convert all yes no to 1 0"
      ]
    },
    {
      "cell_type": "code",
      "execution_count": 31,
      "id": "bd282da6-c061-4277-abfb-5ec170bdc361",
      "metadata": {
        "id": "bd282da6-c061-4277-abfb-5ec170bdc361"
      },
      "outputs": [],
      "source": [
        "yes_no_cols = ['Partner','Dependents','PhoneService','MultipleLines','OnlineSecurity',\n",
        "              'OnlineBackup','DeviceProtection','TechSupport','StreamingTV',\n",
        "              'StreamingMovies','PaperlessBilling','Churn']"
      ]
    },
    {
      "cell_type": "code",
      "execution_count": 32,
      "id": "e208cb28-7412-4dba-b3c3-52405ba786df",
      "metadata": {
        "colab": {
          "base_uri": "https://localhost:8080/"
        },
        "id": "e208cb28-7412-4dba-b3c3-52405ba786df",
        "outputId": "1c94a7bd-6967-4ee0-ef3a-b291594d2733"
      },
      "outputs": [
        {
          "name": "stderr",
          "output_type": "stream",
          "text": [
            "/var/folders/fk/_w73713n2zg8v7slb7vhljxr0000gn/T/ipykernel_1560/1578880922.py:2: FutureWarning: A value is trying to be set on a copy of a DataFrame or Series through chained assignment using an inplace method.\n",
            "The behavior will change in pandas 3.0. This inplace method will never work because the intermediate object on which we are setting values always behaves as a copy.\n",
            "\n",
            "For example, when doing 'df[col].method(value, inplace=True)', try using 'df.method({col: value}, inplace=True)' or df[col] = df[col].method(value) instead, to perform the operation inplace on the original object.\n",
            "\n",
            "\n",
            "  df1[col].replace('Yes',1,inplace=True)\n",
            "/var/folders/fk/_w73713n2zg8v7slb7vhljxr0000gn/T/ipykernel_1560/1578880922.py:2: SettingWithCopyWarning: \n",
            "A value is trying to be set on a copy of a slice from a DataFrame\n",
            "\n",
            "See the caveats in the documentation: https://pandas.pydata.org/pandas-docs/stable/user_guide/indexing.html#returning-a-view-versus-a-copy\n",
            "  df1[col].replace('Yes',1,inplace=True)\n",
            "/var/folders/fk/_w73713n2zg8v7slb7vhljxr0000gn/T/ipykernel_1560/1578880922.py:3: FutureWarning: A value is trying to be set on a copy of a DataFrame or Series through chained assignment using an inplace method.\n",
            "The behavior will change in pandas 3.0. This inplace method will never work because the intermediate object on which we are setting values always behaves as a copy.\n",
            "\n",
            "For example, when doing 'df[col].method(value, inplace=True)', try using 'df.method({col: value}, inplace=True)' or df[col] = df[col].method(value) instead, to perform the operation inplace on the original object.\n",
            "\n",
            "\n",
            "  df1[col].replace('No',0,inplace=True)\n",
            "/var/folders/fk/_w73713n2zg8v7slb7vhljxr0000gn/T/ipykernel_1560/1578880922.py:3: FutureWarning: Downcasting behavior in `replace` is deprecated and will be removed in a future version. To retain the old behavior, explicitly call `result.infer_objects(copy=False)`. To opt-in to the future behavior, set `pd.set_option('future.no_silent_downcasting', True)`\n",
            "  df1[col].replace('No',0,inplace=True)\n",
            "/var/folders/fk/_w73713n2zg8v7slb7vhljxr0000gn/T/ipykernel_1560/1578880922.py:3: SettingWithCopyWarning: \n",
            "A value is trying to be set on a copy of a slice from a DataFrame\n",
            "\n",
            "See the caveats in the documentation: https://pandas.pydata.org/pandas-docs/stable/user_guide/indexing.html#returning-a-view-versus-a-copy\n",
            "  df1[col].replace('No',0,inplace=True)\n"
          ]
        }
      ],
      "source": [
        "for col in yes_no_cols:\n",
        "    df1[col].replace('Yes',1,inplace=True)\n",
        "    df1[col].replace('No',0,inplace=True)"
      ]
    },
    {
      "cell_type": "code",
      "execution_count": 33,
      "id": "86faed57-9ede-410a-8fc1-f7e7cc02b638",
      "metadata": {
        "colab": {
          "base_uri": "https://localhost:8080/"
        },
        "id": "86faed57-9ede-410a-8fc1-f7e7cc02b638",
        "outputId": "b275564b-df99-460a-b1be-7822f813007d"
      },
      "outputs": [
        {
          "name": "stdout",
          "output_type": "stream",
          "text": [
            "gender :  ['Female' 'Male']\n",
            "InternetService :  ['DSL' 'Fiber optic' 'No']\n",
            "Contract :  ['Month-to-month' 'One year' 'Two year']\n",
            "PaymentMethod :  ['Electronic check' 'Mailed check' 'Bank transfer (automatic)'\n",
            " 'Credit card (automatic)']\n"
          ]
        }
      ],
      "source": [
        "unique_vals(df1)\n",
        "#yes no columns aint objects no more"
      ]
    },
    {
      "cell_type": "code",
      "execution_count": 34,
      "id": "df12d850-4757-4c59-80f7-15b8b9860da5",
      "metadata": {
        "colab": {
          "base_uri": "https://localhost:8080/"
        },
        "id": "df12d850-4757-4c59-80f7-15b8b9860da5",
        "outputId": "b36b5a06-ad12-4e04-a071-d9fc2e22c926"
      },
      "outputs": [
        {
          "name": "stdout",
          "output_type": "stream",
          "text": [
            "gender: ['Female' 'Male']\n",
            "SeniorCitizen: [0 1]\n",
            "Partner: [1 0]\n",
            "Dependents: [0 1]\n",
            "tenure: [ 1 34  2 45  8 22 10 28 62 13 16 58 49 25 69 52 71 21 12 30 47 72 17 27\n",
            "  5 46 11 70 63 43 15 60 18 66  9  3 31 50 64 56  7 42 35 48 29 65 38 68\n",
            " 32 55 37 36 41  6  4 33 67 23 57 61 14 20 53 40 59 24 44 19 54 51 26 39]\n",
            "PhoneService: [0 1]\n",
            "MultipleLines: [0 1]\n",
            "InternetService: ['DSL' 'Fiber optic' 'No']\n",
            "OnlineSecurity: [0 1]\n",
            "OnlineBackup: [1 0]\n",
            "DeviceProtection: [0 1]\n",
            "TechSupport: [0 1]\n",
            "StreamingTV: [0 1]\n",
            "StreamingMovies: [0 1]\n",
            "Contract: ['Month-to-month' 'One year' 'Two year']\n",
            "PaperlessBilling: [1 0]\n",
            "PaymentMethod: ['Electronic check' 'Mailed check' 'Bank transfer (automatic)'\n",
            " 'Credit card (automatic)']\n",
            "MonthlyCharges: [29.85 56.95 53.85 ... 63.1  44.2  78.7 ]\n",
            "TotalCharges: [  29.85 1889.5   108.15 ...  346.45  306.6  6844.5 ]\n",
            "Churn: [0 1]\n"
          ]
        }
      ],
      "source": [
        "for col in df1:\n",
        "    print(f'{col}: {df1[col].unique()}')"
      ]
    },
    {
      "cell_type": "code",
      "execution_count": 35,
      "id": "bd214b9b-676e-4184-8a81-e1e80ab98ba1",
      "metadata": {
        "colab": {
          "base_uri": "https://localhost:8080/"
        },
        "id": "bd214b9b-676e-4184-8a81-e1e80ab98ba1",
        "outputId": "d9a99c20-784a-4fae-8db2-a6864f9ad90d"
      },
      "outputs": [
        {
          "name": "stderr",
          "output_type": "stream",
          "text": [
            "/var/folders/fk/_w73713n2zg8v7slb7vhljxr0000gn/T/ipykernel_1560/3676012290.py:1: FutureWarning: A value is trying to be set on a copy of a DataFrame or Series through chained assignment using an inplace method.\n",
            "The behavior will change in pandas 3.0. This inplace method will never work because the intermediate object on which we are setting values always behaves as a copy.\n",
            "\n",
            "For example, when doing 'df[col].method(value, inplace=True)', try using 'df.method({col: value}, inplace=True)' or df[col] = df[col].method(value) instead, to perform the operation inplace on the original object.\n",
            "\n",
            "\n",
            "  df1['gender'].replace('Female',1,inplace=True)\n",
            "/var/folders/fk/_w73713n2zg8v7slb7vhljxr0000gn/T/ipykernel_1560/3676012290.py:1: SettingWithCopyWarning: \n",
            "A value is trying to be set on a copy of a slice from a DataFrame\n",
            "\n",
            "See the caveats in the documentation: https://pandas.pydata.org/pandas-docs/stable/user_guide/indexing.html#returning-a-view-versus-a-copy\n",
            "  df1['gender'].replace('Female',1,inplace=True)\n",
            "/var/folders/fk/_w73713n2zg8v7slb7vhljxr0000gn/T/ipykernel_1560/3676012290.py:2: FutureWarning: A value is trying to be set on a copy of a DataFrame or Series through chained assignment using an inplace method.\n",
            "The behavior will change in pandas 3.0. This inplace method will never work because the intermediate object on which we are setting values always behaves as a copy.\n",
            "\n",
            "For example, when doing 'df[col].method(value, inplace=True)', try using 'df.method({col: value}, inplace=True)' or df[col] = df[col].method(value) instead, to perform the operation inplace on the original object.\n",
            "\n",
            "\n",
            "  df1['gender'].replace('Male',0,inplace=True)\n",
            "/var/folders/fk/_w73713n2zg8v7slb7vhljxr0000gn/T/ipykernel_1560/3676012290.py:2: FutureWarning: Downcasting behavior in `replace` is deprecated and will be removed in a future version. To retain the old behavior, explicitly call `result.infer_objects(copy=False)`. To opt-in to the future behavior, set `pd.set_option('future.no_silent_downcasting', True)`\n",
            "  df1['gender'].replace('Male',0,inplace=True)\n",
            "/var/folders/fk/_w73713n2zg8v7slb7vhljxr0000gn/T/ipykernel_1560/3676012290.py:2: SettingWithCopyWarning: \n",
            "A value is trying to be set on a copy of a slice from a DataFrame\n",
            "\n",
            "See the caveats in the documentation: https://pandas.pydata.org/pandas-docs/stable/user_guide/indexing.html#returning-a-view-versus-a-copy\n",
            "  df1['gender'].replace('Male',0,inplace=True)\n"
          ]
        }
      ],
      "source": [
        "df1['gender'].replace('Female',1,inplace=True)\n",
        "df1['gender'].replace('Male',0,inplace=True)\n"
      ]
    },
    {
      "cell_type": "code",
      "execution_count": 36,
      "id": "9GBaqq-kgoEf",
      "metadata": {
        "colab": {
          "base_uri": "https://localhost:8080/"
        },
        "id": "9GBaqq-kgoEf",
        "outputId": "973e5374-c3af-452a-8066-d6e242bd14fa"
      },
      "outputs": [
        {
          "data": {
            "text/plain": [
              "array([1, 0])"
            ]
          },
          "execution_count": 36,
          "metadata": {},
          "output_type": "execute_result"
        }
      ],
      "source": [
        "df1.gender.unique()"
      ]
    },
    {
      "cell_type": "code",
      "execution_count": 37,
      "id": "a5ec4cd8-f1ce-4a32-ad42-18cd4e1871d6",
      "metadata": {
        "colab": {
          "base_uri": "https://localhost:8080/"
        },
        "id": "a5ec4cd8-f1ce-4a32-ad42-18cd4e1871d6",
        "outputId": "f0b4c820-6142-479b-b9e3-e965986eb3f7"
      },
      "outputs": [
        {
          "name": "stdout",
          "output_type": "stream",
          "text": [
            "InternetService :  ['DSL' 'Fiber optic' 'No']\n",
            "Contract :  ['Month-to-month' 'One year' 'Two year']\n",
            "PaymentMethod :  ['Electronic check' 'Mailed check' 'Bank transfer (automatic)'\n",
            " 'Credit card (automatic)']\n"
          ]
        }
      ],
      "source": [
        "unique_vals(df1)"
      ]
    },
    {
      "cell_type": "markdown",
      "id": "F0wBPjplh1NG",
      "metadata": {
        "id": "F0wBPjplh1NG"
      },
      "source": [
        "One hot encoding for categorical columns"
      ]
    },
    {
      "cell_type": "code",
      "execution_count": 38,
      "id": "a4eb5477-f258-4f13-80b6-938ff29bb1b8",
      "metadata": {
        "colab": {
          "base_uri": "https://localhost:8080/"
        },
        "id": "a4eb5477-f258-4f13-80b6-938ff29bb1b8",
        "outputId": "50c7c63e-08cd-483b-a81a-ab1889f7945a"
      },
      "outputs": [
        {
          "data": {
            "text/plain": [
              "Index(['gender', 'SeniorCitizen', 'Partner', 'Dependents', 'tenure',\n",
              "       'PhoneService', 'MultipleLines', 'OnlineSecurity', 'OnlineBackup',\n",
              "       'DeviceProtection', 'TechSupport', 'StreamingTV', 'StreamingMovies',\n",
              "       'PaperlessBilling', 'MonthlyCharges', 'TotalCharges', 'Churn',\n",
              "       'InternetService_DSL', 'InternetService_Fiber optic',\n",
              "       'InternetService_No', 'Contract_Month-to-month', 'Contract_One year',\n",
              "       'Contract_Two year', 'PaymentMethod_Bank transfer (automatic)',\n",
              "       'PaymentMethod_Credit card (automatic)',\n",
              "       'PaymentMethod_Electronic check', 'PaymentMethod_Mailed check'],\n",
              "      dtype='object')"
            ]
          },
          "execution_count": 38,
          "metadata": {},
          "output_type": "execute_result"
        }
      ],
      "source": [
        "df2 = pd.get_dummies(data=df1, columns=['InternetService','Contract','PaymentMethod'])\n",
        "df2.columns"
      ]
    },
    {
      "cell_type": "code",
      "execution_count": 39,
      "id": "e0419136-42d0-4dee-bfbf-a3f72c98a9ac",
      "metadata": {
        "colab": {
          "base_uri": "https://localhost:8080/"
        },
        "id": "e0419136-42d0-4dee-bfbf-a3f72c98a9ac",
        "outputId": "813f1eac-c42a-4d8f-ec19-270aef0f87b9"
      },
      "outputs": [
        {
          "data": {
            "text/plain": [
              "Index(['gender', 'SeniorCitizen', 'Partner', 'Dependents', 'tenure',\n",
              "       'PhoneService', 'MultipleLines', 'OnlineSecurity', 'OnlineBackup',\n",
              "       'DeviceProtection', 'TechSupport', 'StreamingTV', 'StreamingMovies',\n",
              "       'PaperlessBilling', 'MonthlyCharges', 'TotalCharges', 'Churn',\n",
              "       'InternetService_DSL', 'InternetService_Fiber optic',\n",
              "       'InternetService_No', 'Contract_Month-to-month', 'Contract_One year',\n",
              "       'Contract_Two year', 'PaymentMethod_Bank transfer (automatic)',\n",
              "       'PaymentMethod_Credit card (automatic)',\n",
              "       'PaymentMethod_Electronic check', 'PaymentMethod_Mailed check'],\n",
              "      dtype='object')"
            ]
          },
          "execution_count": 39,
          "metadata": {},
          "output_type": "execute_result"
        }
      ],
      "source": [
        "df2.columns"
      ]
    },
    {
      "cell_type": "code",
      "execution_count": 40,
      "id": "76XUoE0riDz4",
      "metadata": {
        "colab": {
          "base_uri": "https://localhost:8080/",
          "height": 290
        },
        "id": "76XUoE0riDz4",
        "outputId": "90f0e530-7f67-4c7e-f1a3-a1760e0bfa29"
      },
      "outputs": [
        {
          "data": {
            "text/html": [
              "<div>\n",
              "<style scoped>\n",
              "    .dataframe tbody tr th:only-of-type {\n",
              "        vertical-align: middle;\n",
              "    }\n",
              "\n",
              "    .dataframe tbody tr th {\n",
              "        vertical-align: top;\n",
              "    }\n",
              "\n",
              "    .dataframe thead th {\n",
              "        text-align: right;\n",
              "    }\n",
              "</style>\n",
              "<table border=\"1\" class=\"dataframe\">\n",
              "  <thead>\n",
              "    <tr style=\"text-align: right;\">\n",
              "      <th></th>\n",
              "      <th>gender</th>\n",
              "      <th>SeniorCitizen</th>\n",
              "      <th>Partner</th>\n",
              "      <th>Dependents</th>\n",
              "      <th>tenure</th>\n",
              "      <th>PhoneService</th>\n",
              "      <th>MultipleLines</th>\n",
              "      <th>OnlineSecurity</th>\n",
              "      <th>OnlineBackup</th>\n",
              "      <th>DeviceProtection</th>\n",
              "      <th>...</th>\n",
              "      <th>InternetService_DSL</th>\n",
              "      <th>InternetService_Fiber optic</th>\n",
              "      <th>InternetService_No</th>\n",
              "      <th>Contract_Month-to-month</th>\n",
              "      <th>Contract_One year</th>\n",
              "      <th>Contract_Two year</th>\n",
              "      <th>PaymentMethod_Bank transfer (automatic)</th>\n",
              "      <th>PaymentMethod_Credit card (automatic)</th>\n",
              "      <th>PaymentMethod_Electronic check</th>\n",
              "      <th>PaymentMethod_Mailed check</th>\n",
              "    </tr>\n",
              "  </thead>\n",
              "  <tbody>\n",
              "    <tr>\n",
              "      <th>2572</th>\n",
              "      <td>1</td>\n",
              "      <td>0</td>\n",
              "      <td>1</td>\n",
              "      <td>0</td>\n",
              "      <td>71</td>\n",
              "      <td>1</td>\n",
              "      <td>1</td>\n",
              "      <td>0</td>\n",
              "      <td>0</td>\n",
              "      <td>0</td>\n",
              "      <td>...</td>\n",
              "      <td>False</td>\n",
              "      <td>False</td>\n",
              "      <td>True</td>\n",
              "      <td>False</td>\n",
              "      <td>False</td>\n",
              "      <td>True</td>\n",
              "      <td>True</td>\n",
              "      <td>False</td>\n",
              "      <td>False</td>\n",
              "      <td>False</td>\n",
              "    </tr>\n",
              "    <tr>\n",
              "      <th>141</th>\n",
              "      <td>1</td>\n",
              "      <td>0</td>\n",
              "      <td>0</td>\n",
              "      <td>0</td>\n",
              "      <td>8</td>\n",
              "      <td>1</td>\n",
              "      <td>1</td>\n",
              "      <td>1</td>\n",
              "      <td>0</td>\n",
              "      <td>0</td>\n",
              "      <td>...</td>\n",
              "      <td>True</td>\n",
              "      <td>False</td>\n",
              "      <td>False</td>\n",
              "      <td>True</td>\n",
              "      <td>False</td>\n",
              "      <td>False</td>\n",
              "      <td>False</td>\n",
              "      <td>False</td>\n",
              "      <td>True</td>\n",
              "      <td>False</td>\n",
              "    </tr>\n",
              "    <tr>\n",
              "      <th>4808</th>\n",
              "      <td>1</td>\n",
              "      <td>0</td>\n",
              "      <td>0</td>\n",
              "      <td>0</td>\n",
              "      <td>54</td>\n",
              "      <td>1</td>\n",
              "      <td>0</td>\n",
              "      <td>1</td>\n",
              "      <td>0</td>\n",
              "      <td>1</td>\n",
              "      <td>...</td>\n",
              "      <td>True</td>\n",
              "      <td>False</td>\n",
              "      <td>False</td>\n",
              "      <td>False</td>\n",
              "      <td>False</td>\n",
              "      <td>True</td>\n",
              "      <td>False</td>\n",
              "      <td>False</td>\n",
              "      <td>True</td>\n",
              "      <td>False</td>\n",
              "    </tr>\n",
              "    <tr>\n",
              "      <th>608</th>\n",
              "      <td>0</td>\n",
              "      <td>0</td>\n",
              "      <td>1</td>\n",
              "      <td>1</td>\n",
              "      <td>72</td>\n",
              "      <td>1</td>\n",
              "      <td>1</td>\n",
              "      <td>1</td>\n",
              "      <td>1</td>\n",
              "      <td>1</td>\n",
              "      <td>...</td>\n",
              "      <td>False</td>\n",
              "      <td>True</td>\n",
              "      <td>False</td>\n",
              "      <td>False</td>\n",
              "      <td>False</td>\n",
              "      <td>True</td>\n",
              "      <td>True</td>\n",
              "      <td>False</td>\n",
              "      <td>False</td>\n",
              "      <td>False</td>\n",
              "    </tr>\n",
              "    <tr>\n",
              "      <th>6753</th>\n",
              "      <td>1</td>\n",
              "      <td>0</td>\n",
              "      <td>1</td>\n",
              "      <td>1</td>\n",
              "      <td>56</td>\n",
              "      <td>1</td>\n",
              "      <td>1</td>\n",
              "      <td>1</td>\n",
              "      <td>1</td>\n",
              "      <td>0</td>\n",
              "      <td>...</td>\n",
              "      <td>True</td>\n",
              "      <td>False</td>\n",
              "      <td>False</td>\n",
              "      <td>False</td>\n",
              "      <td>True</td>\n",
              "      <td>False</td>\n",
              "      <td>True</td>\n",
              "      <td>False</td>\n",
              "      <td>False</td>\n",
              "      <td>False</td>\n",
              "    </tr>\n",
              "  </tbody>\n",
              "</table>\n",
              "<p>5 rows × 27 columns</p>\n",
              "</div>"
            ],
            "text/plain": [
              "      gender  SeniorCitizen  Partner  Dependents  tenure  PhoneService  \\\n",
              "2572       1              0        1           0      71             1   \n",
              "141        1              0        0           0       8             1   \n",
              "4808       1              0        0           0      54             1   \n",
              "608        0              0        1           1      72             1   \n",
              "6753       1              0        1           1      56             1   \n",
              "\n",
              "      MultipleLines  OnlineSecurity  OnlineBackup  DeviceProtection  ...  \\\n",
              "2572              1               0             0                 0  ...   \n",
              "141               1               1             0                 0  ...   \n",
              "4808              0               1             0                 1  ...   \n",
              "608               1               1             1                 1  ...   \n",
              "6753              1               1             1                 0  ...   \n",
              "\n",
              "      InternetService_DSL  InternetService_Fiber optic  InternetService_No  \\\n",
              "2572                False                        False                True   \n",
              "141                  True                        False               False   \n",
              "4808                 True                        False               False   \n",
              "608                 False                         True               False   \n",
              "6753                 True                        False               False   \n",
              "\n",
              "      Contract_Month-to-month  Contract_One year  Contract_Two year  \\\n",
              "2572                    False              False               True   \n",
              "141                      True              False              False   \n",
              "4808                    False              False               True   \n",
              "608                     False              False               True   \n",
              "6753                    False               True              False   \n",
              "\n",
              "      PaymentMethod_Bank transfer (automatic)  \\\n",
              "2572                                     True   \n",
              "141                                     False   \n",
              "4808                                    False   \n",
              "608                                      True   \n",
              "6753                                     True   \n",
              "\n",
              "      PaymentMethod_Credit card (automatic)  PaymentMethod_Electronic check  \\\n",
              "2572                                  False                           False   \n",
              "141                                   False                            True   \n",
              "4808                                  False                            True   \n",
              "608                                   False                           False   \n",
              "6753                                  False                           False   \n",
              "\n",
              "      PaymentMethod_Mailed check  \n",
              "2572                       False  \n",
              "141                        False  \n",
              "4808                       False  \n",
              "608                        False  \n",
              "6753                       False  \n",
              "\n",
              "[5 rows x 27 columns]"
            ]
          },
          "execution_count": 40,
          "metadata": {},
          "output_type": "execute_result"
        }
      ],
      "source": [
        "df2.sample(5)"
      ]
    },
    {
      "cell_type": "code",
      "execution_count": 41,
      "id": "dc7468b9-aaa1-4ee1-a79c-0fc10a16182b",
      "metadata": {
        "colab": {
          "base_uri": "https://localhost:8080/",
          "height": 930
        },
        "id": "dc7468b9-aaa1-4ee1-a79c-0fc10a16182b",
        "outputId": "b69522fb-629d-4ed1-d361-c66005aa51c6"
      },
      "outputs": [
        {
          "data": {
            "text/plain": [
              "gender                                       int64\n",
              "SeniorCitizen                                int64\n",
              "Partner                                      int64\n",
              "Dependents                                   int64\n",
              "tenure                                       int64\n",
              "PhoneService                                 int64\n",
              "MultipleLines                                int64\n",
              "OnlineSecurity                               int64\n",
              "OnlineBackup                                 int64\n",
              "DeviceProtection                             int64\n",
              "TechSupport                                  int64\n",
              "StreamingTV                                  int64\n",
              "StreamingMovies                              int64\n",
              "PaperlessBilling                             int64\n",
              "MonthlyCharges                             float64\n",
              "TotalCharges                               float64\n",
              "Churn                                        int64\n",
              "InternetService_DSL                           bool\n",
              "InternetService_Fiber optic                   bool\n",
              "InternetService_No                            bool\n",
              "Contract_Month-to-month                       bool\n",
              "Contract_One year                             bool\n",
              "Contract_Two year                             bool\n",
              "PaymentMethod_Bank transfer (automatic)       bool\n",
              "PaymentMethod_Credit card (automatic)         bool\n",
              "PaymentMethod_Electronic check                bool\n",
              "PaymentMethod_Mailed check                    bool\n",
              "dtype: object"
            ]
          },
          "execution_count": 41,
          "metadata": {},
          "output_type": "execute_result"
        }
      ],
      "source": [
        "df2.dtypes"
      ]
    },
    {
      "cell_type": "code",
      "execution_count": 42,
      "id": "28d2ad1d-f5f1-4290-bb4f-c44df7b143ed",
      "metadata": {
        "id": "28d2ad1d-f5f1-4290-bb4f-c44df7b143ed"
      },
      "outputs": [],
      "source": [
        "#Feature Scaling convert 0-1"
      ]
    },
    {
      "cell_type": "code",
      "execution_count": 43,
      "id": "a489b572-bcf6-499d-92ce-09b01e48cf61",
      "metadata": {
        "id": "a489b572-bcf6-499d-92ce-09b01e48cf61"
      },
      "outputs": [],
      "source": [
        "fs_cols = ['tenure','MonthlyCharges','TotalCharges']\n",
        "\n",
        "from sklearn.preprocessing import MinMaxScaler\n",
        "scaler = MinMaxScaler()\n",
        "df2[fs_cols] = scaler.fit_transform(df2[fs_cols])"
      ]
    },
    {
      "cell_type": "code",
      "execution_count": 44,
      "id": "26599593-316a-4f81-932f-a8ce9357e3bc",
      "metadata": {
        "colab": {
          "base_uri": "https://localhost:8080/"
        },
        "id": "26599593-316a-4f81-932f-a8ce9357e3bc",
        "outputId": "396a36e3-47b6-402c-d8c1-a73da316949d"
      },
      "outputs": [
        {
          "name": "stdout",
          "output_type": "stream",
          "text": [
            "gender: [1 0]\n",
            "SeniorCitizen: [0 1]\n",
            "Partner: [1 0]\n",
            "Dependents: [0 1]\n",
            "tenure: [0.         0.46478873 0.01408451 0.61971831 0.09859155 0.29577465\n",
            " 0.12676056 0.38028169 0.85915493 0.16901408 0.21126761 0.8028169\n",
            " 0.67605634 0.33802817 0.95774648 0.71830986 0.98591549 0.28169014\n",
            " 0.15492958 0.4084507  0.64788732 1.         0.22535211 0.36619718\n",
            " 0.05633803 0.63380282 0.14084507 0.97183099 0.87323944 0.5915493\n",
            " 0.1971831  0.83098592 0.23943662 0.91549296 0.11267606 0.02816901\n",
            " 0.42253521 0.69014085 0.88732394 0.77464789 0.08450704 0.57746479\n",
            " 0.47887324 0.66197183 0.3943662  0.90140845 0.52112676 0.94366197\n",
            " 0.43661972 0.76056338 0.50704225 0.49295775 0.56338028 0.07042254\n",
            " 0.04225352 0.45070423 0.92957746 0.30985915 0.78873239 0.84507042\n",
            " 0.18309859 0.26760563 0.73239437 0.54929577 0.81690141 0.32394366\n",
            " 0.6056338  0.25352113 0.74647887 0.70422535 0.35211268 0.53521127]\n",
            "PhoneService: [0 1]\n",
            "MultipleLines: [0 1]\n",
            "OnlineSecurity: [0 1]\n",
            "OnlineBackup: [1 0]\n",
            "DeviceProtection: [0 1]\n",
            "TechSupport: [0 1]\n",
            "StreamingTV: [0 1]\n",
            "StreamingMovies: [0 1]\n",
            "PaperlessBilling: [1 0]\n",
            "MonthlyCharges: [0.11542289 0.38507463 0.35422886 ... 0.44626866 0.25820896 0.60149254]\n",
            "TotalCharges: [0.0012751  0.21586661 0.01031041 ... 0.03780868 0.03321025 0.78764136]\n",
            "Churn: [0 1]\n",
            "InternetService_DSL: [ True False]\n",
            "InternetService_Fiber optic: [False  True]\n",
            "InternetService_No: [False  True]\n",
            "Contract_Month-to-month: [ True False]\n",
            "Contract_One year: [False  True]\n",
            "Contract_Two year: [False  True]\n",
            "PaymentMethod_Bank transfer (automatic): [False  True]\n",
            "PaymentMethod_Credit card (automatic): [False  True]\n",
            "PaymentMethod_Electronic check: [ True False]\n",
            "PaymentMethod_Mailed check: [False  True]\n"
          ]
        }
      ],
      "source": [
        "for col in df2:\n",
        "    print(f'{col}: {df2[col].unique()}')"
      ]
    },
    {
      "cell_type": "code",
      "execution_count": 45,
      "id": "d7b5d7e7-12eb-417b-892d-bf36289d72d9",
      "metadata": {
        "id": "d7b5d7e7-12eb-417b-892d-bf36289d72d9"
      },
      "outputs": [],
      "source": [
        "#now we do test train split"
      ]
    },
    {
      "cell_type": "code",
      "execution_count": 46,
      "id": "1fdfefb8-afc2-409a-a1df-17db46760abd",
      "metadata": {
        "id": "1fdfefb8-afc2-409a-a1df-17db46760abd"
      },
      "outputs": [],
      "source": [
        "X = df2.drop(['Churn'],axis=1)\n",
        "y = testLabels = df2.Churn.astype(np.float32)"
      ]
    },
    {
      "cell_type": "code",
      "execution_count": 50,
      "id": "JSlZOwJjWgvw",
      "metadata": {
        "colab": {
          "base_uri": "https://localhost:8080/",
          "height": 178
        },
        "id": "JSlZOwJjWgvw",
        "outputId": "80d2ebb0-1bed-434b-ab2a-22169b2c175f"
      },
      "outputs": [
        {
          "name": "stdout",
          "output_type": "stream",
          "text": [
            "Collecting imbalanced-learn\n",
            "  Using cached imbalanced_learn-0.12.4-py3-none-any.whl.metadata (8.3 kB)\n",
            "Requirement already satisfied: numpy>=1.17.3 in /Users/anshulbharti/miniforge3/lib/python3.10/site-packages (from imbalanced-learn) (1.26.4)\n",
            "Requirement already satisfied: scipy>=1.5.0 in /Users/anshulbharti/miniforge3/lib/python3.10/site-packages (from imbalanced-learn) (1.11.2)\n",
            "Requirement already satisfied: scikit-learn>=1.0.2 in /Users/anshulbharti/miniforge3/lib/python3.10/site-packages (from imbalanced-learn) (1.5.0)\n",
            "Requirement already satisfied: joblib>=1.1.1 in /Users/anshulbharti/miniforge3/lib/python3.10/site-packages (from imbalanced-learn) (1.4.2)\n",
            "Requirement already satisfied: threadpoolctl>=2.0.0 in /Users/anshulbharti/miniforge3/lib/python3.10/site-packages (from imbalanced-learn) (3.5.0)\n",
            "Using cached imbalanced_learn-0.12.4-py3-none-any.whl (258 kB)\n",
            "Installing collected packages: imbalanced-learn\n",
            "Successfully installed imbalanced-learn-0.12.4\n",
            "Note: you may need to restart the kernel to use updated packages.\n"
          ]
        },
        {
          "data": {
            "text/plain": [
              "Churn\n",
              "0.0    5163\n",
              "1.0    5163\n",
              "Name: count, dtype: int64"
            ]
          },
          "execution_count": 50,
          "metadata": {},
          "output_type": "execute_result"
        }
      ],
      "source": [
        "%pip install imbalanced-learn\n",
        "from imblearn.over_sampling import SMOTE\n",
        "\n",
        "smote = SMOTE(sampling_strategy='minority')\n",
        "X_sm, y_sm = smote.fit_resample(X, y)\n",
        "\n",
        "y_sm.value_counts()"
      ]
    },
    {
      "cell_type": "code",
      "execution_count": 52,
      "id": "d430d332",
      "metadata": {},
      "outputs": [
        {
          "data": {
            "text/plain": [
              "((10326, 26), (10326,))"
            ]
          },
          "execution_count": 52,
          "metadata": {},
          "output_type": "execute_result"
        }
      ],
      "source": [
        "X_sm.shape , y_sm.shape"
      ]
    },
    {
      "cell_type": "code",
      "execution_count": 53,
      "id": "2eb787d1-6fff-4ea0-88f9-bc639f8001f1",
      "metadata": {
        "id": "2eb787d1-6fff-4ea0-88f9-bc639f8001f1"
      },
      "outputs": [],
      "source": [
        "from sklearn.model_selection import train_test_split\n",
        "X_train, X_test, y_train, y_test = train_test_split(X_sm, y_sm, test_size=0.2, random_state=15, stratify=y_sm)"
      ]
    },
    {
      "cell_type": "code",
      "execution_count": 54,
      "id": "531935fb-d553-4096-a0f8-425e1e9e94f3",
      "metadata": {
        "colab": {
          "base_uri": "https://localhost:8080/"
        },
        "id": "531935fb-d553-4096-a0f8-425e1e9e94f3",
        "outputId": "f32caa3b-6841-411d-f3a9-2ff61ea89555"
      },
      "outputs": [
        {
          "data": {
            "text/plain": [
              "(8260, 26)"
            ]
          },
          "execution_count": 54,
          "metadata": {},
          "output_type": "execute_result"
        }
      ],
      "source": [
        "X_train.shape"
      ]
    },
    {
      "cell_type": "code",
      "execution_count": 55,
      "id": "9da099e0-185b-4b24-86ce-47db47cf3862",
      "metadata": {
        "colab": {
          "base_uri": "https://localhost:8080/"
        },
        "id": "9da099e0-185b-4b24-86ce-47db47cf3862",
        "outputId": "75848a96-138f-4699-885c-6c95d90e2fc2"
      },
      "outputs": [
        {
          "data": {
            "text/plain": [
              "(8260,)"
            ]
          },
          "execution_count": 55,
          "metadata": {},
          "output_type": "execute_result"
        }
      ],
      "source": [
        "y_train.shape"
      ]
    },
    {
      "cell_type": "code",
      "execution_count": 56,
      "id": "9b2d8b78-e6cd-4e28-b639-25b41fd1a248",
      "metadata": {
        "colab": {
          "base_uri": "https://localhost:8080/"
        },
        "id": "9b2d8b78-e6cd-4e28-b639-25b41fd1a248",
        "outputId": "92a4741d-f34f-4d5a-f8e9-15bab6d9bce3"
      },
      "outputs": [
        {
          "data": {
            "text/plain": [
              "(2066, 26)"
            ]
          },
          "execution_count": 56,
          "metadata": {},
          "output_type": "execute_result"
        }
      ],
      "source": [
        "X_test.shape"
      ]
    },
    {
      "cell_type": "code",
      "execution_count": 57,
      "id": "5ce12d26-2283-4cc4-a083-afd32aa75072",
      "metadata": {
        "colab": {
          "base_uri": "https://localhost:8080/"
        },
        "id": "5ce12d26-2283-4cc4-a083-afd32aa75072",
        "outputId": "f4f6cbbc-eb31-4076-ae19-475725f57991"
      },
      "outputs": [
        {
          "data": {
            "text/plain": [
              "(2066,)"
            ]
          },
          "execution_count": 57,
          "metadata": {},
          "output_type": "execute_result"
        }
      ],
      "source": [
        "y_test.shape"
      ]
    },
    {
      "cell_type": "code",
      "execution_count": 130,
      "id": "28e22d2e-a27e-4507-b005-6dd94161d4df",
      "metadata": {
        "colab": {
          "base_uri": "https://localhost:8080/"
        },
        "id": "28e22d2e-a27e-4507-b005-6dd94161d4df",
        "outputId": "709dd3ae-411b-451c-cefb-837ac8941557"
      },
      "outputs": [
        {
          "data": {
            "text/plain": [
              "26"
            ]
          },
          "execution_count": 130,
          "metadata": {},
          "output_type": "execute_result"
        }
      ],
      "source": [
        "len(X_train.columns)\n",
        "#26 features, thus 26 input neurons"
      ]
    },
    {
      "cell_type": "code",
      "execution_count": 131,
      "id": "47613e58-73ef-45d8-b394-e2c61f5e7f8a",
      "metadata": {
        "id": "47613e58-73ef-45d8-b394-e2c61f5e7f8a"
      },
      "outputs": [],
      "source": [
        "#Now we create ANN"
      ]
    },
    {
      "cell_type": "code",
      "execution_count": 58,
      "id": "aZWe0sc4RTtZ",
      "metadata": {
        "id": "aZWe0sc4RTtZ"
      },
      "outputs": [],
      "source": [
        "\n",
        "import tensorflow as tf\n",
        "from tensorflow import keras\n",
        "from sklearn.metrics import confusion_matrix , classification_report\n",
        "import numpy as np"
      ]
    },
    {
      "cell_type": "code",
      "execution_count": 84,
      "id": "04a4035c-a2e7-4a7e-b713-4c45d3b604d2",
      "metadata": {
        "colab": {
          "base_uri": "https://localhost:8080/"
        },
        "id": "04a4035c-a2e7-4a7e-b713-4c45d3b604d2",
        "outputId": "6c351072-ef74-46f0-aba4-21a0b953c122"
      },
      "outputs": [],
      "source": [
        "def ANN(X_train, y_train, X_test, y_test, loss, weights):\n",
        "    X_train = X_train.to_numpy()\n",
        "    y_train = y_train.to_numpy()\n",
        "    X_train = X_train.astype('float32')\n",
        "    y_train = y_train.astype('int32')\n",
        "    model = keras.Sequential([\n",
        "        keras.layers.Flatten(input_shape=(26,)),\n",
        "        keras.layers.Dense(32, activation='tanh'),\n",
        "        keras.layers.Dropout(0.1),\n",
        "        keras.layers.Dense(64, activation='tanh'),\n",
        "        keras.layers.Dropout(0.1),\n",
        "        keras.layers.Dense(128, activation='tanh'),\n",
        "        keras.layers.Dropout(0.1),\n",
        "        keras.layers.Dense(1, activation='sigmoid')\n",
        "    ])\n",
        "    print(X_train.shape)\n",
        "    print(y_train.shape)\n",
        "    print(\"working\")\n",
        "\n",
        "    model.compile(optimizer='adam', loss=loss, metrics=['accuracy'])\n",
        "    model.summary()\n",
        "    print(f\"after summary\")\n",
        "    print(X_train.shape)\n",
        "    print(y_train.shape)\n",
        "    if weights == -1:\n",
        "        print(f\"Applying class weights: {weights}\")\n",
        "        model.fit(X_train, y_train, epochs=100)\n",
        "    else:\n",
        "        print(f\"Applying class weights: {weights}\")\n",
        "        model.fit(X_train, y_train, epochs=100, class_weight = weights)\n",
        "        print(X_train.shape)\n",
        "        print(y_train.shape)\n",
        "\n",
        "    print(model.evaluate(X_test, y_test))\n",
        "    print(f\"after evaluate\")\n",
        "    print(X_train.shape)\n",
        "    print(y_train.shape)\n",
        "    print(\"working\")\n",
        "    y_preds = model.predict(X_test)\n",
        "    y_preds = np.round(y_preds)\n",
        "\n",
        "    print(\"Classification Report: \\n\", classification_report(y_test, y_preds))\n",
        "    print(f\"after report\")\n",
        "    print(X_train.shape)\n",
        "    print(y_train.shape)\n",
        "    return model"
      ]
    },
    {
      "cell_type": "code",
      "execution_count": 86,
      "id": "JzWEgyp9Rp3o",
      "metadata": {
        "colab": {
          "base_uri": "https://localhost:8080/",
          "height": 1000
        },
        "id": "JzWEgyp9Rp3o",
        "outputId": "f0640f22-be61-4c6b-a5d0-4df625353711"
      },
      "outputs": [
        {
          "name": "stdout",
          "output_type": "stream",
          "text": [
            "<class 'dict'>\n",
            "(8260, 26)\n",
            "(8260,)\n",
            "working\n",
            "Model: \"sequential_8\"\n",
            "_________________________________________________________________\n",
            " Layer (type)                Output Shape              Param #   \n",
            "=================================================================\n",
            " flatten_8 (Flatten)         (None, 26)                0         \n",
            "                                                                 \n",
            " dense_32 (Dense)            (None, 32)                864       \n",
            "                                                                 \n",
            " dropout_24 (Dropout)        (None, 32)                0         \n",
            "                                                                 \n",
            " dense_33 (Dense)            (None, 64)                2112      \n",
            "                                                                 \n",
            " dropout_25 (Dropout)        (None, 64)                0         \n",
            "                                                                 \n",
            " dense_34 (Dense)            (None, 128)               8320      \n",
            "                                                                 \n",
            " dropout_26 (Dropout)        (None, 128)               0         \n",
            "                                                                 \n",
            " dense_35 (Dense)            (None, 1)                 129       \n",
            "                                                                 \n",
            "=================================================================\n",
            "Total params: 11425 (44.63 KB)\n",
            "Trainable params: 11425 (44.63 KB)\n",
            "Non-trainable params: 0 (0.00 Byte)\n",
            "_________________________________________________________________\n",
            "after summary\n",
            "(8260, 26)\n",
            "(8260,)\n",
            "Applying class weights: {1: 5.0, 0: 5.0}\n",
            "Epoch 1/100\n",
            "259/259 [==============================] - 2s 5ms/step - loss: 2.4945 - accuracy: 0.7617\n",
            "Epoch 2/100\n",
            "259/259 [==============================] - 1s 5ms/step - loss: 2.3802 - accuracy: 0.7781\n",
            "Epoch 3/100\n",
            "259/259 [==============================] - 1s 5ms/step - loss: 2.3453 - accuracy: 0.7804\n",
            "Epoch 4/100\n",
            "259/259 [==============================] - 1s 5ms/step - loss: 2.3259 - accuracy: 0.7788\n",
            "Epoch 5/100\n",
            "259/259 [==============================] - 1s 4ms/step - loss: 2.3078 - accuracy: 0.7854\n",
            "Epoch 6/100\n",
            "259/259 [==============================] - 1s 4ms/step - loss: 2.2962 - accuracy: 0.7811\n",
            "Epoch 7/100\n",
            "259/259 [==============================] - 1s 4ms/step - loss: 2.2629 - accuracy: 0.7834\n",
            "Epoch 8/100\n",
            "259/259 [==============================] - 1s 4ms/step - loss: 2.2592 - accuracy: 0.7880\n",
            "Epoch 9/100\n",
            "259/259 [==============================] - 1s 4ms/step - loss: 2.2631 - accuracy: 0.7890\n",
            "Epoch 10/100\n",
            "259/259 [==============================] - 1s 4ms/step - loss: 2.2467 - accuracy: 0.7863\n",
            "Epoch 11/100\n",
            "259/259 [==============================] - 1s 4ms/step - loss: 2.2192 - accuracy: 0.7923\n",
            "Epoch 12/100\n",
            "259/259 [==============================] - 1s 4ms/step - loss: 2.2205 - accuracy: 0.7897\n",
            "Epoch 13/100\n",
            "259/259 [==============================] - 1s 5ms/step - loss: 2.2127 - accuracy: 0.7938\n",
            "Epoch 14/100\n",
            "259/259 [==============================] - 1s 4ms/step - loss: 2.2012 - accuracy: 0.7936\n",
            "Epoch 15/100\n",
            "259/259 [==============================] - 1s 4ms/step - loss: 2.1901 - accuracy: 0.7953\n",
            "Epoch 16/100\n",
            "259/259 [==============================] - 1s 5ms/step - loss: 2.1911 - accuracy: 0.7956\n",
            "Epoch 17/100\n",
            "259/259 [==============================] - 1s 4ms/step - loss: 2.1672 - accuracy: 0.7947\n",
            "Epoch 18/100\n",
            "259/259 [==============================] - 1s 5ms/step - loss: 2.1714 - accuracy: 0.7958\n",
            "Epoch 19/100\n",
            "259/259 [==============================] - 1s 4ms/step - loss: 2.1629 - accuracy: 0.7976\n",
            "Epoch 20/100\n",
            "259/259 [==============================] - 1s 5ms/step - loss: 2.1424 - accuracy: 0.8013\n",
            "Epoch 21/100\n",
            "259/259 [==============================] - 1s 4ms/step - loss: 2.1296 - accuracy: 0.8031\n",
            "Epoch 22/100\n",
            "259/259 [==============================] - 1s 4ms/step - loss: 2.1406 - accuracy: 0.7992\n",
            "Epoch 23/100\n",
            "259/259 [==============================] - 1s 4ms/step - loss: 2.1470 - accuracy: 0.8004\n",
            "Epoch 24/100\n",
            "259/259 [==============================] - 1s 4ms/step - loss: 2.1185 - accuracy: 0.8048\n",
            "Epoch 25/100\n",
            "259/259 [==============================] - 1s 4ms/step - loss: 2.1157 - accuracy: 0.8023\n",
            "Epoch 26/100\n",
            "259/259 [==============================] - 1s 4ms/step - loss: 2.0952 - accuracy: 0.8092\n",
            "Epoch 27/100\n",
            "259/259 [==============================] - 1s 5ms/step - loss: 2.0988 - accuracy: 0.8042\n",
            "Epoch 28/100\n",
            "259/259 [==============================] - 1s 4ms/step - loss: 2.1053 - accuracy: 0.8053\n",
            "Epoch 29/100\n",
            "259/259 [==============================] - 1s 5ms/step - loss: 2.0759 - accuracy: 0.8059\n",
            "Epoch 30/100\n",
            "259/259 [==============================] - 1s 5ms/step - loss: 2.0881 - accuracy: 0.8084\n",
            "Epoch 31/100\n",
            "259/259 [==============================] - 1s 5ms/step - loss: 2.0630 - accuracy: 0.8117\n",
            "Epoch 32/100\n",
            "259/259 [==============================] - 1s 5ms/step - loss: 2.0474 - accuracy: 0.8090\n",
            "Epoch 33/100\n",
            "259/259 [==============================] - 1s 5ms/step - loss: 2.0438 - accuracy: 0.8150\n",
            "Epoch 34/100\n",
            "259/259 [==============================] - 1s 5ms/step - loss: 2.0691 - accuracy: 0.8109\n",
            "Epoch 35/100\n",
            "259/259 [==============================] - 1s 6ms/step - loss: 2.0537 - accuracy: 0.8130\n",
            "Epoch 36/100\n",
            "259/259 [==============================] - 1s 5ms/step - loss: 2.0405 - accuracy: 0.8160\n",
            "Epoch 37/100\n",
            "259/259 [==============================] - 1s 5ms/step - loss: 2.0309 - accuracy: 0.8146\n",
            "Epoch 38/100\n",
            "259/259 [==============================] - 1s 5ms/step - loss: 2.0316 - accuracy: 0.8176\n",
            "Epoch 39/100\n",
            "259/259 [==============================] - 1s 5ms/step - loss: 2.0219 - accuracy: 0.8156\n",
            "Epoch 40/100\n",
            "259/259 [==============================] - 1s 5ms/step - loss: 2.0127 - accuracy: 0.8155\n",
            "Epoch 41/100\n",
            "259/259 [==============================] - 1s 4ms/step - loss: 2.0106 - accuracy: 0.8177\n",
            "Epoch 42/100\n",
            "259/259 [==============================] - 1s 5ms/step - loss: 2.0248 - accuracy: 0.8120\n",
            "Epoch 43/100\n",
            "259/259 [==============================] - 1s 5ms/step - loss: 2.0036 - accuracy: 0.8163\n",
            "Epoch 44/100\n",
            "259/259 [==============================] - 1s 5ms/step - loss: 2.0007 - accuracy: 0.8179\n",
            "Epoch 45/100\n",
            "259/259 [==============================] - 1s 5ms/step - loss: 1.9879 - accuracy: 0.8171\n",
            "Epoch 46/100\n",
            "259/259 [==============================] - 1s 5ms/step - loss: 2.0086 - accuracy: 0.8140\n",
            "Epoch 47/100\n",
            "259/259 [==============================] - 1s 5ms/step - loss: 1.9920 - accuracy: 0.8156\n",
            "Epoch 48/100\n",
            "259/259 [==============================] - 1s 5ms/step - loss: 1.9531 - accuracy: 0.8251\n",
            "Epoch 49/100\n",
            "259/259 [==============================] - 1s 5ms/step - loss: 1.9478 - accuracy: 0.8218\n",
            "Epoch 50/100\n",
            "259/259 [==============================] - 1s 4ms/step - loss: 1.9790 - accuracy: 0.8229\n",
            "Epoch 51/100\n",
            "259/259 [==============================] - 1s 5ms/step - loss: 1.9495 - accuracy: 0.8247\n",
            "Epoch 52/100\n",
            "259/259 [==============================] - 1s 5ms/step - loss: 1.9449 - accuracy: 0.8259\n",
            "Epoch 53/100\n",
            "259/259 [==============================] - 1s 5ms/step - loss: 1.9379 - accuracy: 0.8258\n",
            "Epoch 54/100\n",
            "259/259 [==============================] - 1s 5ms/step - loss: 1.9427 - accuracy: 0.8235\n",
            "Epoch 55/100\n",
            "259/259 [==============================] - 1s 5ms/step - loss: 1.9353 - accuracy: 0.8245\n",
            "Epoch 56/100\n",
            "259/259 [==============================] - 1s 5ms/step - loss: 1.9249 - accuracy: 0.8226\n",
            "Epoch 57/100\n",
            "259/259 [==============================] - 1s 5ms/step - loss: 1.9132 - accuracy: 0.8258\n",
            "Epoch 58/100\n",
            "259/259 [==============================] - 1s 5ms/step - loss: 1.9263 - accuracy: 0.8269\n",
            "Epoch 59/100\n",
            "259/259 [==============================] - 1s 4ms/step - loss: 1.9039 - accuracy: 0.8304\n",
            "Epoch 60/100\n",
            "259/259 [==============================] - 1s 4ms/step - loss: 1.9098 - accuracy: 0.8275\n",
            "Epoch 61/100\n",
            "259/259 [==============================] - 1s 5ms/step - loss: 1.8946 - accuracy: 0.8318\n",
            "Epoch 62/100\n",
            "259/259 [==============================] - 1s 4ms/step - loss: 1.8957 - accuracy: 0.8277\n",
            "Epoch 63/100\n",
            "259/259 [==============================] - 1s 4ms/step - loss: 1.8765 - accuracy: 0.8308\n",
            "Epoch 64/100\n",
            "259/259 [==============================] - 1s 5ms/step - loss: 1.8815 - accuracy: 0.8324\n",
            "Epoch 65/100\n",
            "259/259 [==============================] - 1s 4ms/step - loss: 1.8872 - accuracy: 0.8339\n",
            "Epoch 66/100\n",
            "259/259 [==============================] - 1s 4ms/step - loss: 1.8807 - accuracy: 0.8335\n",
            "Epoch 67/100\n",
            "259/259 [==============================] - 1s 4ms/step - loss: 1.8657 - accuracy: 0.8323\n",
            "Epoch 68/100\n",
            "259/259 [==============================] - 1s 4ms/step - loss: 1.8635 - accuracy: 0.8351\n",
            "Epoch 69/100\n",
            "259/259 [==============================] - 1s 4ms/step - loss: 1.8632 - accuracy: 0.8316\n",
            "Epoch 70/100\n",
            "259/259 [==============================] - 1s 4ms/step - loss: 1.8566 - accuracy: 0.8327\n",
            "Epoch 71/100\n",
            "259/259 [==============================] - 1s 4ms/step - loss: 1.8461 - accuracy: 0.8324\n",
            "Epoch 72/100\n",
            "259/259 [==============================] - 1s 4ms/step - loss: 1.8291 - accuracy: 0.8420\n",
            "Epoch 73/100\n",
            "259/259 [==============================] - 1s 4ms/step - loss: 1.8329 - accuracy: 0.8358\n",
            "Epoch 74/100\n",
            "259/259 [==============================] - 1s 4ms/step - loss: 1.8142 - accuracy: 0.8389\n",
            "Epoch 75/100\n",
            "259/259 [==============================] - 1s 4ms/step - loss: 1.8390 - accuracy: 0.8354\n",
            "Epoch 76/100\n",
            "259/259 [==============================] - 1s 4ms/step - loss: 1.8169 - accuracy: 0.8406\n",
            "Epoch 77/100\n",
            "259/259 [==============================] - 1s 4ms/step - loss: 1.8294 - accuracy: 0.8361\n",
            "Epoch 78/100\n",
            "259/259 [==============================] - 1s 4ms/step - loss: 1.8309 - accuracy: 0.8368\n",
            "Epoch 79/100\n",
            "259/259 [==============================] - 1s 4ms/step - loss: 1.8130 - accuracy: 0.8377\n",
            "Epoch 80/100\n",
            "259/259 [==============================] - 1s 4ms/step - loss: 1.8175 - accuracy: 0.8362\n",
            "Epoch 81/100\n",
            "259/259 [==============================] - 1s 4ms/step - loss: 1.8178 - accuracy: 0.8381\n",
            "Epoch 82/100\n",
            "259/259 [==============================] - 1s 4ms/step - loss: 1.8001 - accuracy: 0.8395\n",
            "Epoch 83/100\n",
            "259/259 [==============================] - 1s 4ms/step - loss: 1.8093 - accuracy: 0.8385\n",
            "Epoch 84/100\n",
            "259/259 [==============================] - 1s 4ms/step - loss: 1.7999 - accuracy: 0.8403\n",
            "Epoch 85/100\n",
            "259/259 [==============================] - 1s 4ms/step - loss: 1.7744 - accuracy: 0.8441\n",
            "Epoch 86/100\n",
            "259/259 [==============================] - 1s 4ms/step - loss: 1.8028 - accuracy: 0.8446\n",
            "Epoch 87/100\n",
            "259/259 [==============================] - 1s 5ms/step - loss: 1.7648 - accuracy: 0.8478\n",
            "Epoch 88/100\n",
            "259/259 [==============================] - 1s 4ms/step - loss: 1.7799 - accuracy: 0.8424\n",
            "Epoch 89/100\n",
            "259/259 [==============================] - 1s 5ms/step - loss: 1.7642 - accuracy: 0.8441\n",
            "Epoch 90/100\n",
            "259/259 [==============================] - 1s 5ms/step - loss: 1.7717 - accuracy: 0.8425\n",
            "Epoch 91/100\n",
            "259/259 [==============================] - 1s 5ms/step - loss: 1.7440 - accuracy: 0.8439\n",
            "Epoch 92/100\n",
            "259/259 [==============================] - 1s 5ms/step - loss: 1.7496 - accuracy: 0.8467\n",
            "Epoch 93/100\n",
            "259/259 [==============================] - 1s 5ms/step - loss: 1.7576 - accuracy: 0.8412\n",
            "Epoch 94/100\n",
            "259/259 [==============================] - 1s 5ms/step - loss: 1.7739 - accuracy: 0.8477\n",
            "Epoch 95/100\n",
            "259/259 [==============================] - 1s 5ms/step - loss: 1.7405 - accuracy: 0.8459\n",
            "Epoch 96/100\n",
            "259/259 [==============================] - 1s 5ms/step - loss: 1.7300 - accuracy: 0.8507\n",
            "Epoch 97/100\n",
            "259/259 [==============================] - 1s 5ms/step - loss: 1.7360 - accuracy: 0.8466\n",
            "Epoch 98/100\n",
            "259/259 [==============================] - 1s 5ms/step - loss: 1.7325 - accuracy: 0.8473\n",
            "Epoch 99/100\n",
            "259/259 [==============================] - 1s 5ms/step - loss: 1.7302 - accuracy: 0.8429\n",
            "Epoch 100/100\n",
            "259/259 [==============================] - 1s 5ms/step - loss: 1.7114 - accuracy: 0.8515\n",
            "(8260, 26)\n",
            "(8260,)\n",
            "65/65 [==============================] - 0s 3ms/step - loss: 0.4384 - accuracy: 0.8059\n",
            "[0.4384235739707947, 0.8059051036834717]\n",
            "after evaluate\n",
            "(8260, 26)\n",
            "(8260,)\n",
            "working\n",
            "65/65 [==============================] - 0s 1ms/step\n",
            "Classification Report: \n",
            "               precision    recall  f1-score   support\n",
            "\n",
            "           0       0.84      0.75      0.79      1033\n",
            "           1       0.77      0.86      0.82      1033\n",
            "\n",
            "    accuracy                           0.81      2066\n",
            "   macro avg       0.81      0.81      0.81      2066\n",
            "weighted avg       0.81      0.81      0.81      2066\n",
            "\n",
            "after report\n",
            "(8260, 26)\n",
            "(8260,)\n"
          ]
        }
      ],
      "source": [
        "weights = {1:5.0, 0:5.0}\n",
        "print(type(weights))\n",
        "model = ANN(X_train, y_train, X_test, y_test, 'binary_crossentropy',weights)"
      ]
    },
    {
      "cell_type": "code",
      "execution_count": 82,
      "id": "6e7ee154-6636-49d4-83a8-1e461180c855",
      "metadata": {
        "colab": {
          "base_uri": "https://localhost:8080/"
        },
        "id": "6e7ee154-6636-49d4-83a8-1e461180c855",
        "outputId": "6c9b1457-cc3c-46b7-a015-a1ed91006c5c"
      },
      "outputs": [
        {
          "name": "stdout",
          "output_type": "stream",
          "text": [
            "65/65 [==============================] - 0s 3ms/step - loss: 0.4246 - accuracy: 0.8141\n"
          ]
        },
        {
          "data": {
            "text/plain": [
              "[0.42463594675064087, 0.8141335844993591]"
            ]
          },
          "execution_count": 82,
          "metadata": {},
          "output_type": "execute_result"
        }
      ],
      "source": [
        "\n",
        "X_test = X_test.to_numpy()\n",
        "y_test = y_test.to_numpy()\n",
        "X_test = X_test.astype('float32')\n",
        "y_test = y_test.astype('int32')\n",
        "model.evaluate(X_test,y_test)"
      ]
    },
    {
      "cell_type": "code",
      "execution_count": 88,
      "id": "2b735f70-5c22-473b-8a40-a73f3c0c9784",
      "metadata": {
        "colab": {
          "base_uri": "https://localhost:8080/"
        },
        "id": "2b735f70-5c22-473b-8a40-a73f3c0c9784",
        "outputId": "10a51840-f29f-41b7-c799-3f7aa3fa231e"
      },
      "outputs": [
        {
          "name": "stdout",
          "output_type": "stream",
          "text": [
            "65/65 [==============================] - 0s 1ms/step\n"
          ]
        },
        {
          "data": {
            "text/plain": [
              "array([0.14040637], dtype=float32)"
            ]
          },
          "execution_count": 88,
          "metadata": {},
          "output_type": "execute_result"
        }
      ],
      "source": [
        "prediction = model.predict(X_test)\n",
        "prediction[5]"
      ]
    },
    {
      "cell_type": "code",
      "execution_count": 90,
      "id": "ad8c302d-0125-489a-8802-bbe4eb681563",
      "metadata": {
        "colab": {
          "base_uri": "https://localhost:8080/"
        },
        "id": "ad8c302d-0125-489a-8802-bbe4eb681563",
        "outputId": "a6d2a9d9-c23b-4c1e-db8d-069e7b49dad9"
      },
      "outputs": [
        {
          "data": {
            "text/plain": [
              "0"
            ]
          },
          "execution_count": 90,
          "metadata": {},
          "output_type": "execute_result"
        }
      ],
      "source": [
        "y_test[5]"
      ]
    },
    {
      "cell_type": "code",
      "execution_count": 91,
      "id": "ce3de4ad-d704-4b75-ac76-d65a6d8f60d3",
      "metadata": {
        "colab": {
          "base_uri": "https://localhost:8080/"
        },
        "id": "ce3de4ad-d704-4b75-ac76-d65a6d8f60d3",
        "outputId": "811d223b-1e32-457b-8c7f-f9abed3d86ce"
      },
      "outputs": [
        {
          "data": {
            "text/plain": [
              "array([0.00783162], dtype=float32)"
            ]
          },
          "execution_count": 91,
          "metadata": {},
          "output_type": "execute_result"
        }
      ],
      "source": [
        "prediction[10]"
      ]
    },
    {
      "cell_type": "code",
      "execution_count": 92,
      "id": "d3d4aac9-3cc0-4005-af97-113a362458b8",
      "metadata": {
        "colab": {
          "base_uri": "https://localhost:8080/"
        },
        "id": "d3d4aac9-3cc0-4005-af97-113a362458b8",
        "outputId": "7128c617-e934-4123-f8c1-198e3eaa1800"
      },
      "outputs": [
        {
          "data": {
            "text/plain": [
              "0"
            ]
          },
          "execution_count": 92,
          "metadata": {},
          "output_type": "execute_result"
        }
      ],
      "source": [
        "y_test[10]"
      ]
    },
    {
      "cell_type": "code",
      "execution_count": 93,
      "id": "942da1df-1b47-47d5-bbc9-59d685c3491d",
      "metadata": {
        "id": "942da1df-1b47-47d5-bbc9-59d685c3491d"
      },
      "outputs": [],
      "source": [
        "y_pred = []\n",
        "for i in prediction:\n",
        "    if(i>0.5):\n",
        "        y_pred.append(1)\n",
        "    else:\n",
        "        y_pred.append(0)"
      ]
    },
    {
      "cell_type": "code",
      "execution_count": 94,
      "id": "968c269b-82c6-41f5-9643-22f87c7b47e0",
      "metadata": {
        "colab": {
          "base_uri": "https://localhost:8080/",
          "height": 158
        },
        "id": "968c269b-82c6-41f5-9643-22f87c7b47e0",
        "outputId": "2e632516-7e43-4b87-9ced-b6cc8d0a9db8"
      },
      "outputs": [
        {
          "name": "stdout",
          "output_type": "stream",
          "text": [
            "              precision    recall  f1-score   support\n",
            "\n",
            "           0       0.84      0.75      0.79      1033\n",
            "           1       0.77      0.86      0.82      1033\n",
            "\n",
            "    accuracy                           0.81      2066\n",
            "   macro avg       0.81      0.81      0.81      2066\n",
            "weighted avg       0.81      0.81      0.81      2066\n",
            "\n"
          ]
        }
      ],
      "source": [
        "from sklearn.metrics import classification_report\n",
        "print(classification_report(y_test,y_pred))"
      ]
    },
    {
      "cell_type": "code",
      "execution_count": 95,
      "id": "2b63bde1-4ff0-4eaa-9f5a-5cc7386bdabd",
      "metadata": {
        "colab": {
          "base_uri": "https://localhost:8080/",
          "height": 466
        },
        "id": "2b63bde1-4ff0-4eaa-9f5a-5cc7386bdabd",
        "outputId": "ca2ebcb6-8f5b-4521-e605-fc7e125351b9"
      },
      "outputs": [
        {
          "data": {
            "text/plain": [
              "Text(50.722222222222214, 0.5, 'Truth')"
            ]
          },
          "execution_count": 95,
          "metadata": {},
          "output_type": "execute_result"
        },
        {
          "data": {
            "image/png": "[encoded data removed]",
            "text/plain": [
              "<Figure size 640x480 with 2 Axes>"
            ]
          },
          "metadata": {},
          "output_type": "display_data"
        }
      ],
      "source": [
        "\n",
        "cm = tf.math.confusion_matrix(labels=y_test,predictions=y_pred)\n",
        "\n",
        "sns.heatmap(cm, annot=True, fmt='d')\n",
        "plt.xlabel('Predicted')\n",
        "plt.ylabel('Truth')\n"
      ]
    },
    {
      "cell_type": "code",
      "execution_count": null,
      "id": "uRkEzmVdWDOA",
      "metadata": {
        "id": "uRkEzmVdWDOA"
      },
      "outputs": [],
      "source": []
    }
  ],
  "metadata": {
    "colab": {
      "provenance": []
    },
    "kernelspec": {
      "display_name": "base",
      "language": "python",
      "name": "python3"
    },
    "language_info": {
      "codemirror_mode": {
        "name": "ipython",
        "version": 3
      },
      "file_extension": ".py",
      "mimetype": "text/x-python",
      "name": "python",
      "nbconvert_exporter": "python",
      "pygments_lexer": "ipython3",
      "version": "3.10.14"
    }
  },
  "nbformat": 4,
  "nbformat_minor": 5
}
